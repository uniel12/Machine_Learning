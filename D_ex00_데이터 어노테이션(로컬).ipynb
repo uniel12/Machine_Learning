{
 "cells": [
  {
   "cell_type": "code",
   "execution_count": 6,
   "id": "11bb41d8",
   "metadata": {},
   "outputs": [
    {
     "name": "stdout",
     "output_type": "stream",
     "text": [
      "Requirement already satisfied: label in c:\\users\\smhrd\\anaconda3\\lib\\site-packages (0.1.1)\n",
      "Requirement already satisfied: labelImg in c:\\users\\smhrd\\anaconda3\\lib\\site-packages (1.8.6)\n",
      "Requirement already satisfied: pyqt5 in c:\\users\\smhrd\\anaconda3\\lib\\site-packages (from labelImg) (5.15.7)\n",
      "Requirement already satisfied: lxml in c:\\users\\smhrd\\anaconda3\\lib\\site-packages (from labelImg) (4.9.2)\n",
      "Requirement already satisfied: PyQt5-sip<13,>=12.11 in c:\\users\\smhrd\\anaconda3\\lib\\site-packages (from pyqt5->labelImg) (12.11.0)\n"
     ]
    }
   ],
   "source": [
    "!pip install label labelImg"
   ]
  },
  {
   "cell_type": "code",
   "execution_count": 9,
   "id": "0eead13d",
   "metadata": {},
   "outputs": [
    {
     "name": "stderr",
     "output_type": "stream",
     "text": [
      "QMimeDatabase: Error loading internal MIME data\n",
      "An error has been encountered at line 1 of <internal MIME data>: Premature end of document.:\n",
      "Traceback (most recent call last):\n",
      "  File \"C:\\Users\\smhrd\\anaconda3\\Lib\\site-packages\\libs\\canvas.py\", line 530, in paintEvent\n",
      "    p.drawLine(self.prev_point.x(), 0, self.prev_point.x(), self.pixmap.height())\n",
      "TypeError: arguments did not match any overloaded call:\n",
      "  drawLine(self, QLineF): argument 1 has unexpected type 'float'\n",
      "  drawLine(self, QLine): argument 1 has unexpected type 'float'\n",
      "  drawLine(self, int, int, int, int): argument 1 has unexpected type 'float'\n",
      "  drawLine(self, QPoint, QPoint): argument 1 has unexpected type 'float'\n",
      "  drawLine(self, Union[QPointF, QPoint], Union[QPointF, QPoint]): argument 1 has unexpected type 'float'\n"
     ]
    }
   ],
   "source": [
    "!labelImg"
   ]
  },
  {
   "cell_type": "code",
   "execution_count": null,
   "id": "c7a74b85",
   "metadata": {},
   "outputs": [],
   "source": []
  },
  {
   "cell_type": "code",
   "execution_count": null,
   "id": "07ec8c6d",
   "metadata": {},
   "outputs": [],
   "source": []
  },
  {
   "cell_type": "code",
   "execution_count": null,
   "id": "2a28d822",
   "metadata": {},
   "outputs": [],
   "source": []
  },
  {
   "cell_type": "code",
   "execution_count": null,
   "id": "d1549693",
   "metadata": {},
   "outputs": [],
   "source": []
  },
  {
   "cell_type": "code",
   "execution_count": null,
   "id": "b39eb642",
   "metadata": {},
   "outputs": [],
   "source": []
  },
  {
   "cell_type": "code",
   "execution_count": null,
   "id": "6a82a85c",
   "metadata": {},
   "outputs": [],
   "source": []
  },
  {
   "cell_type": "code",
   "execution_count": null,
   "id": "0a726a8c",
   "metadata": {},
   "outputs": [],
   "source": []
  }
 ],
 "metadata": {
  "kernelspec": {
   "display_name": "Python 3 (ipykernel)",
   "language": "python",
   "name": "python3"
  },
  "language_info": {
   "codemirror_mode": {
    "name": "ipython",
    "version": 3
   },
   "file_extension": ".py",
   "mimetype": "text/x-python",
   "name": "python",
   "nbconvert_exporter": "python",
   "pygments_lexer": "ipython3",
   "version": "3.11.3"
  }
 },
 "nbformat": 4,
 "nbformat_minor": 5
}
