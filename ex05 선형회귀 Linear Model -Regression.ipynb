{
 "cells": [
  {
   "cell_type": "markdown",
   "id": "d7289a81",
   "metadata": {},
   "source": [
    "# Linear Regression"
   ]
  },
  {
   "cell_type": "markdown",
   "id": "ed09bccf",
   "metadata": {},
   "source": [
    "# 공부 시간에 따른 시험 점수 예측"
   ]
  },
  {
   "cell_type": "code",
   "execution_count": 1,
   "id": "2355a67b",
   "metadata": {},
   "outputs": [],
   "source": [
    "# 라이브러리 로딩\n",
    "import pandas as pd\n",
    "import matplotlib.pyplot as plt\n",
    "# 글꼴 설정\n",
    "plt.rcParams['font.family'] ='Malgun Gothic'\n",
    "from sklearn.linear_model import LinearRegression\n",
    "from sklearn.metrics import mean_squared_error\n"
   ]
  },
  {
   "cell_type": "code",
   "execution_count": 2,
   "id": "14111393",
   "metadata": {
    "scrolled": true
   },
   "outputs": [
    {
     "data": {
      "text/html": [
       "<div>\n",
       "<style scoped>\n",
       "    .dataframe tbody tr th:only-of-type {\n",
       "        vertical-align: middle;\n",
       "    }\n",
       "\n",
       "    .dataframe tbody tr th {\n",
       "        vertical-align: top;\n",
       "    }\n",
       "\n",
       "    .dataframe thead th {\n",
       "        text-align: right;\n",
       "    }\n",
       "</style>\n",
       "<table border=\"1\" class=\"dataframe\">\n",
       "  <thead>\n",
       "    <tr style=\"text-align: right;\">\n",
       "      <th></th>\n",
       "      <th>hour</th>\n",
       "      <th>score</th>\n",
       "    </tr>\n",
       "  </thead>\n",
       "  <tbody>\n",
       "    <tr>\n",
       "      <th>0</th>\n",
       "      <td>0.5</td>\n",
       "      <td>10</td>\n",
       "    </tr>\n",
       "    <tr>\n",
       "      <th>1</th>\n",
       "      <td>1.2</td>\n",
       "      <td>8</td>\n",
       "    </tr>\n",
       "    <tr>\n",
       "      <th>2</th>\n",
       "      <td>1.8</td>\n",
       "      <td>14</td>\n",
       "    </tr>\n",
       "    <tr>\n",
       "      <th>3</th>\n",
       "      <td>2.4</td>\n",
       "      <td>26</td>\n",
       "    </tr>\n",
       "    <tr>\n",
       "      <th>4</th>\n",
       "      <td>2.6</td>\n",
       "      <td>22</td>\n",
       "    </tr>\n",
       "    <tr>\n",
       "      <th>5</th>\n",
       "      <td>3.2</td>\n",
       "      <td>30</td>\n",
       "    </tr>\n",
       "    <tr>\n",
       "      <th>6</th>\n",
       "      <td>3.9</td>\n",
       "      <td>42</td>\n",
       "    </tr>\n",
       "    <tr>\n",
       "      <th>7</th>\n",
       "      <td>4.4</td>\n",
       "      <td>48</td>\n",
       "    </tr>\n",
       "    <tr>\n",
       "      <th>8</th>\n",
       "      <td>4.5</td>\n",
       "      <td>38</td>\n",
       "    </tr>\n",
       "    <tr>\n",
       "      <th>9</th>\n",
       "      <td>5.0</td>\n",
       "      <td>58</td>\n",
       "    </tr>\n",
       "    <tr>\n",
       "      <th>10</th>\n",
       "      <td>5.3</td>\n",
       "      <td>60</td>\n",
       "    </tr>\n",
       "    <tr>\n",
       "      <th>11</th>\n",
       "      <td>5.8</td>\n",
       "      <td>72</td>\n",
       "    </tr>\n",
       "    <tr>\n",
       "      <th>12</th>\n",
       "      <td>6.0</td>\n",
       "      <td>62</td>\n",
       "    </tr>\n",
       "    <tr>\n",
       "      <th>13</th>\n",
       "      <td>6.1</td>\n",
       "      <td>68</td>\n",
       "    </tr>\n",
       "    <tr>\n",
       "      <th>14</th>\n",
       "      <td>6.2</td>\n",
       "      <td>72</td>\n",
       "    </tr>\n",
       "    <tr>\n",
       "      <th>15</th>\n",
       "      <td>6.9</td>\n",
       "      <td>58</td>\n",
       "    </tr>\n",
       "    <tr>\n",
       "      <th>16</th>\n",
       "      <td>7.2</td>\n",
       "      <td>76</td>\n",
       "    </tr>\n",
       "    <tr>\n",
       "      <th>17</th>\n",
       "      <td>8.4</td>\n",
       "      <td>86</td>\n",
       "    </tr>\n",
       "    <tr>\n",
       "      <th>18</th>\n",
       "      <td>8.6</td>\n",
       "      <td>90</td>\n",
       "    </tr>\n",
       "    <tr>\n",
       "      <th>19</th>\n",
       "      <td>10.0</td>\n",
       "      <td>100</td>\n",
       "    </tr>\n",
       "  </tbody>\n",
       "</table>\n",
       "</div>"
      ],
      "text/plain": [
       "    hour  score\n",
       "0    0.5     10\n",
       "1    1.2      8\n",
       "2    1.8     14\n",
       "3    2.4     26\n",
       "4    2.6     22\n",
       "5    3.2     30\n",
       "6    3.9     42\n",
       "7    4.4     48\n",
       "8    4.5     38\n",
       "9    5.0     58\n",
       "10   5.3     60\n",
       "11   5.8     72\n",
       "12   6.0     62\n",
       "13   6.1     68\n",
       "14   6.2     72\n",
       "15   6.9     58\n",
       "16   7.2     76\n",
       "17   8.4     86\n",
       "18   8.6     90\n",
       "19  10.0    100"
      ]
     },
     "execution_count": 2,
     "metadata": {},
     "output_type": "execute_result"
    }
   ],
   "source": [
    "# 데이터 불러오기\n",
    "data = pd.read_csv('LinearRegressionData.csv')\n",
    "data"
   ]
  },
  {
   "cell_type": "code",
   "execution_count": 3,
   "id": "29395aa8",
   "metadata": {},
   "outputs": [
    {
     "data": {
      "text/plain": [
       "(20, 2)"
      ]
     },
     "execution_count": 3,
     "metadata": {},
     "output_type": "execute_result"
    }
   ],
   "source": [
    "# 데이터 크기/ 모양 확인하기\n",
    "data.shape"
   ]
  },
  {
   "cell_type": "code",
   "execution_count": 4,
   "id": "e1605347",
   "metadata": {
    "scrolled": true
   },
   "outputs": [
    {
     "data": {
      "text/html": [
       "<div>\n",
       "<style scoped>\n",
       "    .dataframe tbody tr th:only-of-type {\n",
       "        vertical-align: middle;\n",
       "    }\n",
       "\n",
       "    .dataframe tbody tr th {\n",
       "        vertical-align: top;\n",
       "    }\n",
       "\n",
       "    .dataframe thead th {\n",
       "        text-align: right;\n",
       "    }\n",
       "</style>\n",
       "<table border=\"1\" class=\"dataframe\">\n",
       "  <thead>\n",
       "    <tr style=\"text-align: right;\">\n",
       "      <th></th>\n",
       "      <th>hour</th>\n",
       "    </tr>\n",
       "  </thead>\n",
       "  <tbody>\n",
       "    <tr>\n",
       "      <th>0</th>\n",
       "      <td>0.5</td>\n",
       "    </tr>\n",
       "    <tr>\n",
       "      <th>1</th>\n",
       "      <td>1.2</td>\n",
       "    </tr>\n",
       "    <tr>\n",
       "      <th>2</th>\n",
       "      <td>1.8</td>\n",
       "    </tr>\n",
       "    <tr>\n",
       "      <th>3</th>\n",
       "      <td>2.4</td>\n",
       "    </tr>\n",
       "    <tr>\n",
       "      <th>4</th>\n",
       "      <td>2.6</td>\n",
       "    </tr>\n",
       "    <tr>\n",
       "      <th>5</th>\n",
       "      <td>3.2</td>\n",
       "    </tr>\n",
       "    <tr>\n",
       "      <th>6</th>\n",
       "      <td>3.9</td>\n",
       "    </tr>\n",
       "    <tr>\n",
       "      <th>7</th>\n",
       "      <td>4.4</td>\n",
       "    </tr>\n",
       "    <tr>\n",
       "      <th>8</th>\n",
       "      <td>4.5</td>\n",
       "    </tr>\n",
       "    <tr>\n",
       "      <th>9</th>\n",
       "      <td>5.0</td>\n",
       "    </tr>\n",
       "    <tr>\n",
       "      <th>10</th>\n",
       "      <td>5.3</td>\n",
       "    </tr>\n",
       "    <tr>\n",
       "      <th>11</th>\n",
       "      <td>5.8</td>\n",
       "    </tr>\n",
       "    <tr>\n",
       "      <th>12</th>\n",
       "      <td>6.0</td>\n",
       "    </tr>\n",
       "    <tr>\n",
       "      <th>13</th>\n",
       "      <td>6.1</td>\n",
       "    </tr>\n",
       "    <tr>\n",
       "      <th>14</th>\n",
       "      <td>6.2</td>\n",
       "    </tr>\n",
       "    <tr>\n",
       "      <th>15</th>\n",
       "      <td>6.9</td>\n",
       "    </tr>\n",
       "    <tr>\n",
       "      <th>16</th>\n",
       "      <td>7.2</td>\n",
       "    </tr>\n",
       "    <tr>\n",
       "      <th>17</th>\n",
       "      <td>8.4</td>\n",
       "    </tr>\n",
       "    <tr>\n",
       "      <th>18</th>\n",
       "      <td>8.6</td>\n",
       "    </tr>\n",
       "    <tr>\n",
       "      <th>19</th>\n",
       "      <td>10.0</td>\n",
       "    </tr>\n",
       "  </tbody>\n",
       "</table>\n",
       "</div>"
      ],
      "text/plain": [
       "    hour\n",
       "0    0.5\n",
       "1    1.2\n",
       "2    1.8\n",
       "3    2.4\n",
       "4    2.6\n",
       "5    3.2\n",
       "6    3.9\n",
       "7    4.4\n",
       "8    4.5\n",
       "9    5.0\n",
       "10   5.3\n",
       "11   5.8\n",
       "12   6.0\n",
       "13   6.1\n",
       "14   6.2\n",
       "15   6.9\n",
       "16   7.2\n",
       "17   8.4\n",
       "18   8.6\n",
       "19  10.0"
      ]
     },
     "execution_count": 4,
     "metadata": {},
     "output_type": "execute_result"
    }
   ],
   "source": [
    "# 문제와 답 데이터로 분리\n",
    "X = data.iloc[:, :-1] # X = data.iloc[:, [0]]  // 문제 데이터는 2차원 데이터로\n",
    "y = data.iloc[:, 1]\n",
    "X"
   ]
  },
  {
   "cell_type": "code",
   "execution_count": null,
   "id": "d820e36f",
   "metadata": {},
   "outputs": [],
   "source": []
  },
  {
   "cell_type": "code",
   "execution_count": 5,
   "id": "5cbc4206",
   "metadata": {},
   "outputs": [],
   "source": [
    "# 선형 회귀 모델 생성\n",
    "lr = LinearRegression()"
   ]
  },
  {
   "cell_type": "code",
   "execution_count": 6,
   "id": "084c252f",
   "metadata": {},
   "outputs": [
    {
     "data": {
      "text/html": [
       "<style>#sk-container-id-1 {color: black;background-color: white;}#sk-container-id-1 pre{padding: 0;}#sk-container-id-1 div.sk-toggleable {background-color: white;}#sk-container-id-1 label.sk-toggleable__label {cursor: pointer;display: block;width: 100%;margin-bottom: 0;padding: 0.3em;box-sizing: border-box;text-align: center;}#sk-container-id-1 label.sk-toggleable__label-arrow:before {content: \"▸\";float: left;margin-right: 0.25em;color: #696969;}#sk-container-id-1 label.sk-toggleable__label-arrow:hover:before {color: black;}#sk-container-id-1 div.sk-estimator:hover label.sk-toggleable__label-arrow:before {color: black;}#sk-container-id-1 div.sk-toggleable__content {max-height: 0;max-width: 0;overflow: hidden;text-align: left;background-color: #f0f8ff;}#sk-container-id-1 div.sk-toggleable__content pre {margin: 0.2em;color: black;border-radius: 0.25em;background-color: #f0f8ff;}#sk-container-id-1 input.sk-toggleable__control:checked~div.sk-toggleable__content {max-height: 200px;max-width: 100%;overflow: auto;}#sk-container-id-1 input.sk-toggleable__control:checked~label.sk-toggleable__label-arrow:before {content: \"▾\";}#sk-container-id-1 div.sk-estimator input.sk-toggleable__control:checked~label.sk-toggleable__label {background-color: #d4ebff;}#sk-container-id-1 div.sk-label input.sk-toggleable__control:checked~label.sk-toggleable__label {background-color: #d4ebff;}#sk-container-id-1 input.sk-hidden--visually {border: 0;clip: rect(1px 1px 1px 1px);clip: rect(1px, 1px, 1px, 1px);height: 1px;margin: -1px;overflow: hidden;padding: 0;position: absolute;width: 1px;}#sk-container-id-1 div.sk-estimator {font-family: monospace;background-color: #f0f8ff;border: 1px dotted black;border-radius: 0.25em;box-sizing: border-box;margin-bottom: 0.5em;}#sk-container-id-1 div.sk-estimator:hover {background-color: #d4ebff;}#sk-container-id-1 div.sk-parallel-item::after {content: \"\";width: 100%;border-bottom: 1px solid gray;flex-grow: 1;}#sk-container-id-1 div.sk-label:hover label.sk-toggleable__label {background-color: #d4ebff;}#sk-container-id-1 div.sk-serial::before {content: \"\";position: absolute;border-left: 1px solid gray;box-sizing: border-box;top: 0;bottom: 0;left: 50%;z-index: 0;}#sk-container-id-1 div.sk-serial {display: flex;flex-direction: column;align-items: center;background-color: white;padding-right: 0.2em;padding-left: 0.2em;position: relative;}#sk-container-id-1 div.sk-item {position: relative;z-index: 1;}#sk-container-id-1 div.sk-parallel {display: flex;align-items: stretch;justify-content: center;background-color: white;position: relative;}#sk-container-id-1 div.sk-item::before, #sk-container-id-1 div.sk-parallel-item::before {content: \"\";position: absolute;border-left: 1px solid gray;box-sizing: border-box;top: 0;bottom: 0;left: 50%;z-index: -1;}#sk-container-id-1 div.sk-parallel-item {display: flex;flex-direction: column;z-index: 1;position: relative;background-color: white;}#sk-container-id-1 div.sk-parallel-item:first-child::after {align-self: flex-end;width: 50%;}#sk-container-id-1 div.sk-parallel-item:last-child::after {align-self: flex-start;width: 50%;}#sk-container-id-1 div.sk-parallel-item:only-child::after {width: 0;}#sk-container-id-1 div.sk-dashed-wrapped {border: 1px dashed gray;margin: 0 0.4em 0.5em 0.4em;box-sizing: border-box;padding-bottom: 0.4em;background-color: white;}#sk-container-id-1 div.sk-label label {font-family: monospace;font-weight: bold;display: inline-block;line-height: 1.2em;}#sk-container-id-1 div.sk-label-container {text-align: center;}#sk-container-id-1 div.sk-container {/* jupyter's `normalize.less` sets `[hidden] { display: none; }` but bootstrap.min.css set `[hidden] { display: none !important; }` so we also need the `!important` here to be able to override the default hidden behavior on the sphinx rendered scikit-learn.org. See: https://github.com/scikit-learn/scikit-learn/issues/21755 */display: inline-block !important;position: relative;}#sk-container-id-1 div.sk-text-repr-fallback {display: none;}</style><div id=\"sk-container-id-1\" class=\"sk-top-container\"><div class=\"sk-text-repr-fallback\"><pre>LinearRegression()</pre><b>In a Jupyter environment, please rerun this cell to show the HTML representation or trust the notebook. <br />On GitHub, the HTML representation is unable to render, please try loading this page with nbviewer.org.</b></div><div class=\"sk-container\" hidden><div class=\"sk-item\"><div class=\"sk-estimator sk-toggleable\"><input class=\"sk-toggleable__control sk-hidden--visually\" id=\"sk-estimator-id-1\" type=\"checkbox\" checked><label for=\"sk-estimator-id-1\" class=\"sk-toggleable__label sk-toggleable__label-arrow\">LinearRegression</label><div class=\"sk-toggleable__content\"><pre>LinearRegression()</pre></div></div></div></div></div>"
      ],
      "text/plain": [
       "LinearRegression()"
      ]
     },
     "execution_count": 6,
     "metadata": {},
     "output_type": "execute_result"
    }
   ],
   "source": [
    "# 학습\n",
    "lr.fit(X,y)"
   ]
  },
  {
   "cell_type": "code",
   "execution_count": 7,
   "id": "808ead05",
   "metadata": {},
   "outputs": [
    {
     "data": {
      "text/plain": [
       "array([  5.00336377,  12.31395163,  18.58016979,  24.84638795,\n",
       "        26.93512734,  33.20134551,  40.51193337,  45.73378184,\n",
       "        46.77815153,  52.        ,  55.13310908,  60.35495755,\n",
       "        62.44369694,  63.48806663,  64.53243633,  71.84302419,\n",
       "        74.97613327,  87.5085696 ,  89.59730899, 104.2184847 ])"
      ]
     },
     "execution_count": 7,
     "metadata": {},
     "output_type": "execute_result"
    }
   ],
   "source": [
    "# 예측(X 값으로 예측)\n",
    "pre = lr.predict(X)\n",
    "pre"
   ]
  },
  {
   "cell_type": "code",
   "execution_count": 8,
   "id": "444c413b",
   "metadata": {},
   "outputs": [
    {
     "data": {
      "image/png": "[encoded data removed]",
      "text/plain": [
       "<Figure size 640x480 with 1 Axes>"
      ]
     },
     "metadata": {},
     "output_type": "display_data"
    }
   ],
   "source": [
    "# 선형회귀 시각화\n",
    "# 데이터를 산점도 그래프로 나타내기\n",
    "plt.scatter(X,y, c='b')\n",
    "plt.xlabel('hour')\n",
    "plt.ylabel('score')\n",
    "\n",
    "# 우리가 예측한 답(pre) 가지고 선 그래프 그리기\n",
    "plt.plot(X,pre,c='g')\n",
    "\n",
    "# 차트 제목 = '시간에 다른 시험성적'\n",
    "plt.title('시간에 다른 시험성적')\n",
    "\n",
    "# x 축 이름 = '시간'\n",
    "plt.xlabel('시간')\n",
    "\n",
    "# y 축 이름 = '점수'\n",
    "plt.ylabel('점수' ,rotation=0)\n",
    "\n",
    "\n",
    "plt.show()"
   ]
  },
  {
   "cell_type": "code",
   "execution_count": 9,
   "id": "3f890856",
   "metadata": {},
   "outputs": [
    {
     "name": "stdout",
     "output_type": "stream",
     "text": [
      "9시간 공부 했을 때 예상 점수 :  [93.77478776]\n"
     ]
    },
    {
     "name": "stderr",
     "output_type": "stream",
     "text": [
      "C:\\Users\\smhrd\\anaconda3\\Lib\\site-packages\\sklearn\\base.py:439: UserWarning: X does not have valid feature names, but LinearRegression was fitted with feature names\n",
      "  warnings.warn(\n"
     ]
    }
   ],
   "source": [
    "# 9시간 공부했을 때 예상 점수\n",
    "print(\"9시간 공부 했을 때 예상 점수 : \",lr.predict([[9]]))"
   ]
  },
  {
   "cell_type": "code",
   "execution_count": 26,
   "id": "d420f856",
   "metadata": {},
   "outputs": [
    {
     "data": {
      "text/plain": [
       "33.470959474611576"
      ]
     },
     "execution_count": 26,
     "metadata": {},
     "output_type": "execute_result"
    }
   ],
   "source": [
    "# 평균제곱오차(MSE) 출력하기\n",
    "# 평균제곱오차(MSE) : 실제값과 예측값의 차이 제곱 후 평균 낸 값\n",
    "mse = mean_squared_error(y,pre)\n",
    "mse"
   ]
  },
  {
   "cell_type": "code",
   "execution_count": 27,
   "id": "78c860b3",
   "metadata": {},
   "outputs": [
    {
     "data": {
      "text/plain": [
       "5.785409188174297"
      ]
     },
     "execution_count": 27,
     "metadata": {},
     "output_type": "execute_result"
    }
   ],
   "source": [
    "# 평균제곱근오차(RMSE)\n",
    "mse ** 0.5"
   ]
  },
  {
   "cell_type": "markdown",
   "id": "b0593209",
   "metadata": {},
   "source": [
    "가설함수(최적선) :  hx(x) = w*x +b "
   ]
  },
  {
   "cell_type": "code",
   "execution_count": 11,
   "id": "d13b4cf3",
   "metadata": {},
   "outputs": [
    {
     "data": {
      "text/plain": [
       "array([10.44369694])"
      ]
     },
     "execution_count": 11,
     "metadata": {},
     "output_type": "execute_result"
    }
   ],
   "source": [
    "# 가중치(weight) / 선형계수 알아보기\n",
    "# 모델명.coef_\n",
    "lr.coef_"
   ]
  },
  {
   "cell_type": "code",
   "execution_count": 12,
   "id": "11fb5867",
   "metadata": {},
   "outputs": [
    {
     "data": {
      "text/plain": [
       "-0.21848470286721522"
      ]
     },
     "execution_count": 12,
     "metadata": {},
     "output_type": "execute_result"
    }
   ],
   "source": [
    "# 편향(bias)\n",
    "# 모델명.intercept_\n",
    "lr.intercept_"
   ]
  },
  {
   "cell_type": "markdown",
   "id": "b338e5f2",
   "metadata": {},
   "source": [
    "h(x) = 10.44369694 * x -0.21848470286721522"
   ]
  },
  {
   "cell_type": "markdown",
   "id": "9e727b5d",
   "metadata": {},
   "source": [
    "## 경사하강법(Gradient Descent)\n",
    "- 가중치(w)변화에 따른 비용함수/손실함수 값의 변화 그래프"
   ]
  },
  {
   "cell_type": "markdown",
   "id": "6372511e",
   "metadata": {},
   "source": [
    "h(x) = w*x + b"
   ]
  },
  {
   "cell_type": "code",
   "execution_count": 13,
   "id": "7d5abb22",
   "metadata": {},
   "outputs": [],
   "source": [
    "def h(w,x): # 가설함수\n",
    "    return w*x+0"
   ]
  },
  {
   "cell_type": "markdown",
   "id": "803cd7db",
   "metadata": {},
   "source": [
    "## 손실/비용함수 \n",
    "- cost function / loss function"
   ]
  },
  {
   "cell_type": "code",
   "execution_count": 14,
   "id": "d0b4f139",
   "metadata": {},
   "outputs": [],
   "source": [
    "def cost(data, target, weight):\n",
    "    y_pre = h(weight,data) # 예측값\n",
    "    return ((target-y_pre)**2).mean()"
   ]
  },
  {
   "cell_type": "code",
   "execution_count": 15,
   "id": "32451ee7",
   "metadata": {},
   "outputs": [
    {
     "data": {
      "text/plain": [
       "38.7"
      ]
     },
     "execution_count": 15,
     "metadata": {},
     "output_type": "execute_result"
    }
   ],
   "source": [
    "# 입력변수 data와 target의 자료형을 시리즈 형태로 통일\n",
    "cost(X['hour'],y,10)"
   ]
  },
  {
   "cell_type": "code",
   "execution_count": 16,
   "id": "8e12d548",
   "metadata": {},
   "outputs": [
    {
     "data": {
      "text/plain": [
       "112.59200000000006"
      ]
     },
     "execution_count": 16,
     "metadata": {},
     "output_type": "execute_result"
    }
   ],
   "source": [
    "cost(X['hour'],y,12)"
   ]
  },
  {
   "cell_type": "code",
   "execution_count": 17,
   "id": "1ec11c91",
   "metadata": {},
   "outputs": [],
   "source": [
    "# w(가중치) 범위 설정\n",
    "weight_arr = range(-10,31)\n",
    "cost_list = [] # cost값 넣을 리스트\n",
    "for w in weight_arr:\n",
    "    cost_value = cost(X['hour'],y,w)\n",
    "    cost_list.append(cost_value)\n",
    "    #if min(cost_list) == cost_value :\n",
    "    #    best_w= w"
   ]
  },
  {
   "cell_type": "code",
   "execution_count": 18,
   "id": "f672b606",
   "metadata": {},
   "outputs": [
    {
     "data": {
      "image/png": "[encoded data removed]",
      "text/plain": [
       "<Figure size 640x480 with 1 Axes>"
      ]
     },
     "metadata": {},
     "output_type": "display_data"
    }
   ],
   "source": [
    "plt.rcParams['axes.unicode_minus']=False # 마이너스 기호 안깨지게\n",
    "\n",
    "plt.plot(weight_arr,cost_list)\n",
    "plt.xlabel('w 가중치')\n",
    "plt.ylabel('loss 손실',rotation=0)\n",
    "\n",
    "plt.show()"
   ]
  },
  {
   "cell_type": "markdown",
   "id": "609360bf",
   "metadata": {},
   "source": [
    "## 확률적 경사하강법 (Stochastic Gradient Descent)\n",
    "- SGDRegressor\n",
    "- 큰데이터셋에서 일반 경사하강법 느린 단점 보완 (속도가 빠름)\n",
    "- 전체 데이터가 아닌 랜덤한 하나의 데이터만으로 w,b 값 업데이트"
   ]
  },
  {
   "cell_type": "code",
   "execution_count": 19,
   "id": "6be7441b",
   "metadata": {},
   "outputs": [],
   "source": [
    "from sklearn.linear_model import SGDRegressor"
   ]
  },
  {
   "cell_type": "code",
   "execution_count": 32,
   "id": "693ef802",
   "metadata": {},
   "outputs": [],
   "source": [
    "# 모델 생성\n",
    "sgd_model = SGDRegressor(max_iter = 5000, # 가중치 업데이트 반복 횟수\n",
    "                         eta0 = 0.1, # 학습률(learning rate)\n",
    "                         # 학습률이 크면 손실함수가 커진다. 최적선을 찾지 못한다. 보통 0.1~-0.4\n",
    "                         verbose = 1) # 학습 과정을 확인해볼 수 있다"
   ]
  },
  {
   "cell_type": "code",
   "execution_count": 33,
   "id": "fc0eaebc",
   "metadata": {
    "scrolled": true
   },
   "outputs": [
    {
     "name": "stdout",
     "output_type": "stream",
     "text": [
      "-- Epoch 1\n",
      "Norm: 16.03, NNZs: 1, Bias: -23.340588, T: 20, Avg. loss: 36375.036351\n",
      "Total training time: 0.00 seconds.\n",
      "-- Epoch 2\n",
      "Norm: 13.01, NNZs: 1, Bias: -18.321332, T: 40, Avg. loss: 512.063500\n",
      "Total training time: 0.00 seconds.\n",
      "-- Epoch 3\n",
      "Norm: 13.21, NNZs: 1, Bias: -17.049313, T: 60, Avg. loss: 342.046392\n",
      "Total training time: 0.00 seconds.\n",
      "-- Epoch 4\n",
      "Norm: 14.07, NNZs: 1, Bias: -14.728030, T: 80, Avg. loss: 128.565021\n",
      "Total training time: 0.00 seconds.\n",
      "-- Epoch 5\n",
      "Norm: 14.86, NNZs: 1, Bias: -13.079680, T: 100, Avg. loss: 463.019184\n",
      "Total training time: 0.00 seconds.\n",
      "-- Epoch 6\n",
      "Norm: 10.44, NNZs: 1, Bias: -12.096809, T: 120, Avg. loss: 108.914426\n",
      "Total training time: 0.00 seconds.\n",
      "-- Epoch 7\n",
      "Norm: 14.22, NNZs: 1, Bias: -10.403192, T: 140, Avg. loss: 71.765290\n",
      "Total training time: 0.00 seconds.\n",
      "-- Epoch 8\n",
      "Norm: 12.45, NNZs: 1, Bias: -9.563861, T: 160, Avg. loss: 105.149212\n",
      "Total training time: 0.00 seconds.\n",
      "-- Epoch 9\n",
      "Norm: 8.95, NNZs: 1, Bias: -8.832923, T: 180, Avg. loss: 58.857396\n",
      "Total training time: 0.00 seconds.\n",
      "-- Epoch 10\n",
      "Norm: 12.46, NNZs: 1, Bias: -6.982204, T: 200, Avg. loss: 88.742131\n",
      "Total training time: 0.00 seconds.\n",
      "-- Epoch 11\n",
      "Norm: 9.03, NNZs: 1, Bias: -6.601183, T: 220, Avg. loss: 52.158694\n",
      "Total training time: 0.00 seconds.\n",
      "-- Epoch 12\n",
      "Norm: 12.00, NNZs: 1, Bias: -5.307364, T: 240, Avg. loss: 48.382713\n",
      "Total training time: 0.00 seconds.\n",
      "-- Epoch 13\n",
      "Norm: 10.66, NNZs: 1, Bias: -4.988209, T: 260, Avg. loss: 40.265362\n",
      "Total training time: 0.00 seconds.\n",
      "-- Epoch 14\n",
      "Norm: 12.45, NNZs: 1, Bias: -4.817902, T: 280, Avg. loss: 36.182169\n",
      "Total training time: 0.00 seconds.\n",
      "-- Epoch 15\n",
      "Norm: 9.23, NNZs: 1, Bias: -5.092625, T: 300, Avg. loss: 41.537393\n",
      "Total training time: 0.00 seconds.\n",
      "-- Epoch 16\n",
      "Norm: 12.35, NNZs: 1, Bias: -3.947440, T: 320, Avg. loss: 41.036187\n",
      "Total training time: 0.00 seconds.\n",
      "-- Epoch 17\n",
      "Norm: 11.98, NNZs: 1, Bias: -3.815128, T: 340, Avg. loss: 41.320681\n",
      "Total training time: 0.00 seconds.\n",
      "-- Epoch 18\n",
      "Norm: 10.93, NNZs: 1, Bias: -3.987548, T: 360, Avg. loss: 33.587740\n",
      "Total training time: 0.00 seconds.\n",
      "-- Epoch 19\n",
      "Norm: 10.62, NNZs: 1, Bias: -3.511542, T: 380, Avg. loss: 43.933950\n",
      "Total training time: 0.00 seconds.\n",
      "-- Epoch 20\n",
      "Norm: 11.88, NNZs: 1, Bias: -3.009391, T: 400, Avg. loss: 52.747661\n",
      "Total training time: 0.00 seconds.\n",
      "-- Epoch 21\n",
      "Norm: 10.36, NNZs: 1, Bias: -2.847111, T: 420, Avg. loss: 45.792375\n",
      "Total training time: 0.00 seconds.\n",
      "-- Epoch 22\n",
      "Norm: 12.26, NNZs: 1, Bias: -2.248252, T: 440, Avg. loss: 26.269181\n",
      "Total training time: 0.00 seconds.\n",
      "-- Epoch 23\n",
      "Norm: 11.40, NNZs: 1, Bias: -2.268514, T: 460, Avg. loss: 31.616989\n",
      "Total training time: 0.00 seconds.\n",
      "-- Epoch 24\n",
      "Norm: 8.65, NNZs: 1, Bias: -2.452248, T: 480, Avg. loss: 31.633381\n",
      "Total training time: 0.00 seconds.\n",
      "-- Epoch 25\n",
      "Norm: 11.47, NNZs: 1, Bias: -1.583675, T: 500, Avg. loss: 44.884477\n",
      "Total training time: 0.00 seconds.\n",
      "-- Epoch 26\n",
      "Norm: 9.64, NNZs: 1, Bias: -1.593581, T: 520, Avg. loss: 33.263889\n",
      "Total training time: 0.00 seconds.\n",
      "-- Epoch 27\n",
      "Norm: 11.16, NNZs: 1, Bias: -1.138184, T: 540, Avg. loss: 24.842830\n",
      "Total training time: 0.00 seconds.\n",
      "-- Epoch 28\n",
      "Norm: 9.62, NNZs: 1, Bias: -1.260334, T: 560, Avg. loss: 25.310838\n",
      "Total training time: 0.00 seconds.\n",
      "-- Epoch 29\n",
      "Norm: 11.68, NNZs: 1, Bias: -1.199035, T: 580, Avg. loss: 29.247424\n",
      "Total training time: 0.00 seconds.\n",
      "-- Epoch 30\n",
      "Norm: 9.42, NNZs: 1, Bias: -1.643155, T: 600, Avg. loss: 32.338990\n",
      "Total training time: 0.00 seconds.\n",
      "-- Epoch 31\n",
      "Norm: 11.78, NNZs: 1, Bias: -1.102923, T: 620, Avg. loss: 26.044560\n",
      "Total training time: 0.00 seconds.\n",
      "-- Epoch 32\n",
      "Norm: 10.52, NNZs: 1, Bias: -1.314089, T: 640, Avg. loss: 32.628057\n",
      "Total training time: 0.00 seconds.\n",
      "Convergence after 32 epochs took 0.00 seconds\n"
     ]
    },
    {
     "data": {
      "text/html": [
       "<style>#sk-container-id-5 {color: black;background-color: white;}#sk-container-id-5 pre{padding: 0;}#sk-container-id-5 div.sk-toggleable {background-color: white;}#sk-container-id-5 label.sk-toggleable__label {cursor: pointer;display: block;width: 100%;margin-bottom: 0;padding: 0.3em;box-sizing: border-box;text-align: center;}#sk-container-id-5 label.sk-toggleable__label-arrow:before {content: \"▸\";float: left;margin-right: 0.25em;color: #696969;}#sk-container-id-5 label.sk-toggleable__label-arrow:hover:before {color: black;}#sk-container-id-5 div.sk-estimator:hover label.sk-toggleable__label-arrow:before {color: black;}#sk-container-id-5 div.sk-toggleable__content {max-height: 0;max-width: 0;overflow: hidden;text-align: left;background-color: #f0f8ff;}#sk-container-id-5 div.sk-toggleable__content pre {margin: 0.2em;color: black;border-radius: 0.25em;background-color: #f0f8ff;}#sk-container-id-5 input.sk-toggleable__control:checked~div.sk-toggleable__content {max-height: 200px;max-width: 100%;overflow: auto;}#sk-container-id-5 input.sk-toggleable__control:checked~label.sk-toggleable__label-arrow:before {content: \"▾\";}#sk-container-id-5 div.sk-estimator input.sk-toggleable__control:checked~label.sk-toggleable__label {background-color: #d4ebff;}#sk-container-id-5 div.sk-label input.sk-toggleable__control:checked~label.sk-toggleable__label {background-color: #d4ebff;}#sk-container-id-5 input.sk-hidden--visually {border: 0;clip: rect(1px 1px 1px 1px);clip: rect(1px, 1px, 1px, 1px);height: 1px;margin: -1px;overflow: hidden;padding: 0;position: absolute;width: 1px;}#sk-container-id-5 div.sk-estimator {font-family: monospace;background-color: #f0f8ff;border: 1px dotted black;border-radius: 0.25em;box-sizing: border-box;margin-bottom: 0.5em;}#sk-container-id-5 div.sk-estimator:hover {background-color: #d4ebff;}#sk-container-id-5 div.sk-parallel-item::after {content: \"\";width: 100%;border-bottom: 1px solid gray;flex-grow: 1;}#sk-container-id-5 div.sk-label:hover label.sk-toggleable__label {background-color: #d4ebff;}#sk-container-id-5 div.sk-serial::before {content: \"\";position: absolute;border-left: 1px solid gray;box-sizing: border-box;top: 0;bottom: 0;left: 50%;z-index: 0;}#sk-container-id-5 div.sk-serial {display: flex;flex-direction: column;align-items: center;background-color: white;padding-right: 0.2em;padding-left: 0.2em;position: relative;}#sk-container-id-5 div.sk-item {position: relative;z-index: 1;}#sk-container-id-5 div.sk-parallel {display: flex;align-items: stretch;justify-content: center;background-color: white;position: relative;}#sk-container-id-5 div.sk-item::before, #sk-container-id-5 div.sk-parallel-item::before {content: \"\";position: absolute;border-left: 1px solid gray;box-sizing: border-box;top: 0;bottom: 0;left: 50%;z-index: -1;}#sk-container-id-5 div.sk-parallel-item {display: flex;flex-direction: column;z-index: 1;position: relative;background-color: white;}#sk-container-id-5 div.sk-parallel-item:first-child::after {align-self: flex-end;width: 50%;}#sk-container-id-5 div.sk-parallel-item:last-child::after {align-self: flex-start;width: 50%;}#sk-container-id-5 div.sk-parallel-item:only-child::after {width: 0;}#sk-container-id-5 div.sk-dashed-wrapped {border: 1px dashed gray;margin: 0 0.4em 0.5em 0.4em;box-sizing: border-box;padding-bottom: 0.4em;background-color: white;}#sk-container-id-5 div.sk-label label {font-family: monospace;font-weight: bold;display: inline-block;line-height: 1.2em;}#sk-container-id-5 div.sk-label-container {text-align: center;}#sk-container-id-5 div.sk-container {/* jupyter's `normalize.less` sets `[hidden] { display: none; }` but bootstrap.min.css set `[hidden] { display: none !important; }` so we also need the `!important` here to be able to override the default hidden behavior on the sphinx rendered scikit-learn.org. See: https://github.com/scikit-learn/scikit-learn/issues/21755 */display: inline-block !important;position: relative;}#sk-container-id-5 div.sk-text-repr-fallback {display: none;}</style><div id=\"sk-container-id-5\" class=\"sk-top-container\"><div class=\"sk-text-repr-fallback\"><pre>SGDRegressor(eta0=0.1, max_iter=5000, verbose=1)</pre><b>In a Jupyter environment, please rerun this cell to show the HTML representation or trust the notebook. <br />On GitHub, the HTML representation is unable to render, please try loading this page with nbviewer.org.</b></div><div class=\"sk-container\" hidden><div class=\"sk-item\"><div class=\"sk-estimator sk-toggleable\"><input class=\"sk-toggleable__control sk-hidden--visually\" id=\"sk-estimator-id-5\" type=\"checkbox\" checked><label for=\"sk-estimator-id-5\" class=\"sk-toggleable__label sk-toggleable__label-arrow\">SGDRegressor</label><div class=\"sk-toggleable__content\"><pre>SGDRegressor(eta0=0.1, max_iter=5000, verbose=1)</pre></div></div></div></div></div>"
      ],
      "text/plain": [
       "SGDRegressor(eta0=0.1, max_iter=5000, verbose=1)"
      ]
     },
     "execution_count": 33,
     "metadata": {},
     "output_type": "execute_result"
    }
   ],
   "source": [
    "# 학습\n",
    "sgd_model.fit(X,y)\n",
    "# Epoch : 학습한 횟수"
   ]
  },
  {
   "cell_type": "code",
   "execution_count": 22,
   "id": "178a31d0",
   "metadata": {},
   "outputs": [
    {
     "name": "stderr",
     "output_type": "stream",
     "text": [
      "C:\\Users\\smhrd\\anaconda3\\Lib\\site-packages\\sklearn\\base.py:439: UserWarning: X does not have valid feature names, but SGDRegressor was fitted with feature names\n",
      "  warnings.warn(\n"
     ]
    },
    {
     "data": {
      "text/plain": [
       "array([71.11173484])"
      ]
     },
     "execution_count": 22,
     "metadata": {},
     "output_type": "execute_result"
    }
   ],
   "source": [
    "# 예측\n",
    "sgd_model.predict([[7]])"
   ]
  },
  {
   "cell_type": "code",
   "execution_count": 23,
   "id": "cc823ab4",
   "metadata": {},
   "outputs": [
    {
     "name": "stdout",
     "output_type": "stream",
     "text": [
      "[10.34761769]\n",
      "[-1.32158899]\n"
     ]
    }
   ],
   "source": [
    "# w값 확인\n",
    "print(sgd_model.coef_)\n",
    "#b 값 확인\n",
    "print(sgd_model.intercept_)"
   ]
  },
  {
   "cell_type": "markdown",
   "id": "5420fd03",
   "metadata": {},
   "source": [
    "h(x)=10.47457308*x + 3.21314429"
   ]
  },
  {
   "cell_type": "code",
   "execution_count": null,
   "id": "b45f8940",
   "metadata": {},
   "outputs": [],
   "source": []
  },
  {
   "cell_type": "code",
   "execution_count": null,
   "id": "a2bd51e9",
   "metadata": {},
   "outputs": [],
   "source": []
  },
  {
   "cell_type": "code",
   "execution_count": null,
   "id": "8838ebb2",
   "metadata": {},
   "outputs": [],
   "source": []
  },
  {
   "cell_type": "code",
   "execution_count": null,
   "id": "6014cbd6",
   "metadata": {},
   "outputs": [],
   "source": []
  },
  {
   "cell_type": "code",
   "execution_count": null,
   "id": "4ed87d68",
   "metadata": {},
   "outputs": [],
   "source": []
  },
  {
   "cell_type": "code",
   "execution_count": null,
   "id": "9cbea608",
   "metadata": {},
   "outputs": [],
   "source": []
  },
  {
   "cell_type": "code",
   "execution_count": null,
   "id": "ec8951bd",
   "metadata": {},
   "outputs": [],
   "source": []
  },
  {
   "cell_type": "code",
   "execution_count": null,
   "id": "152d0f25",
   "metadata": {},
   "outputs": [],
   "source": []
  },
  {
   "cell_type": "code",
   "execution_count": null,
   "id": "b5e02cde",
   "metadata": {},
   "outputs": [],
   "source": []
  }
 ],
 "metadata": {
  "kernelspec": {
   "display_name": "Python 3 (ipykernel)",
   "language": "python",
   "name": "python3"
  },
  "language_info": {
   "codemirror_mode": {
    "name": "ipython",
    "version": 3
   },
   "file_extension": ".py",
   "mimetype": "text/x-python",
   "name": "python",
   "nbconvert_exporter": "python",
   "pygments_lexer": "ipython3",
   "version": "3.11.3"
  }
 },
 "nbformat": 4,
 "nbformat_minor": 5
}
