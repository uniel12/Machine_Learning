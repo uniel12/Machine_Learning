{
 "cells": [
  {
   "cell_type": "code",
   "execution_count": 1,
   "id": "fb830417",
   "metadata": {},
   "outputs": [],
   "source": [
    "# 등장 빈도 기준 정제 함수 정의\n",
    "\n",
    "def clean_by_freq(tokenized_words, freq):\n",
    "    # 1. Counter 함수를 통해 단어의 빈도수를 카운트하여 단어 집합 생성\n",
    "    # Vocab 이라는 변수에 담기\n",
    "    vocab = Counter(tokenized_words)\n",
    "    # 2. 빈도수가 freq 이하인 단어 추출\n",
    "    # low_freq_words 라는 변수에 담기\n",
    "    low_freq_words= []\n",
    "    for key, value in vocab.items():\n",
    "        if value < freq:\n",
    "            low_freq_words.append(key)\n",
    "    # 3. low_freq_words에 포함되지 않는 단어 리스트 생성\n",
    "    # cleaned_words 라는 변수에 담기\n",
    "    cleaned_words= []\n",
    "    for word in tokenized_words:\n",
    "        if word not in low_freq_words:\n",
    "            cleaned_words.append(word)\n",
    "    return cleaned_words"
   ]
  },
  {
   "cell_type": "code",
   "execution_count": 2,
   "id": "45d854ff",
   "metadata": {},
   "outputs": [],
   "source": [
    "# 단어 길이 기준 정제함수\n",
    "def clean_by_len(tokenized_words, length):\n",
    "    cleaned_by_freq_len = []\n",
    "    # 단어 길이가 length 이상인 단어들을 cleaned_by_freq_len 이라는 변수에 담기\n",
    "    for word in tokenized_words:\n",
    "        if len(word) >= length:\n",
    "            cleaned_by_freq_len.append(word)\n",
    "    return cleaned_by_freq_len"
   ]
  },
  {
   "cell_type": "code",
   "execution_count": 3,
   "id": "d475018f",
   "metadata": {},
   "outputs": [],
   "source": [
    "# 불용어 제거 함수 만들기\n",
    "def clean_by_stopwords(tokenized_words,stopwords_set):\n",
    "    cleaned_words = []\n",
    "    \n",
    "    # 불용어 제거하는 코드 작성\n",
    "    for word in tokenized_words:\n",
    "        if word not in stopwords_set:\n",
    "             cleaned_words.append(word)\n",
    "                \n",
    "    return cleaned_words"
   ]
  },
  {
   "cell_type": "code",
   "execution_count": 4,
   "id": "2cae16d7",
   "metadata": {},
   "outputs": [],
   "source": [
    "from nltk.stem import PorterStemmer\n",
    "\n",
    "# 포터스테머 어간 추출 함수\n",
    "def stemming_by_porter(tokenized_words):\n",
    "    porter_stemmer = PorterStemmer()\n",
    "    porter_stemmed_words =[]\n",
    "    for word in tokenized_words :\n",
    "        stem = porter_stemmer.stem(word)\n",
    "        porter_stemmed_words.append(stem)\n",
    "    return porter_stemmed_words"
   ]
  },
  {
   "cell_type": "code",
   "execution_count": 5,
   "id": "4be95380",
   "metadata": {},
   "outputs": [],
   "source": [
    "from nltk.tokenize import word_tokenize\n",
    "from nltk.tokenize import sent_tokenize\n",
    "from nltk.tag import pos_tag\n",
    "\n",
    "# 품사 태깅 함수 정의\n",
    "def pos_tagger(tokenized_sents):\n",
    "    pos_tagged_words = []\n",
    "    for sentence in tokenized_sents:\n",
    "        # 단어 토큰화\n",
    "        tokenized_words = word_tokenize(sentence)\n",
    "        \n",
    "        # 품사 태깅\n",
    "        pos_tagged = pos_tag(tokenized_words)\n",
    "        \n",
    "        # 품사태깅한 데이터 담아주기 -extend 활용\n",
    "        pos_tagged_words.extend(pos_tagged)\n",
    "    return pos_tagged_words"
   ]
  },
  {
   "cell_type": "code",
   "execution_count": 6,
   "id": "1539ab2d",
   "metadata": {},
   "outputs": [
    {
     "name": "stderr",
     "output_type": "stream",
     "text": [
      "[nltk_data] Downloading package wordnet to\n",
      "[nltk_data]     C:\\Users\\smhrd\\AppData\\Roaming\\nltk_data...\n",
      "[nltk_data]   Package wordnet is already up-to-date!\n",
      "[nltk_data] Downloading package omw-1.4 to\n",
      "[nltk_data]     C:\\Users\\smhrd\\AppData\\Roaming\\nltk_data...\n",
      "[nltk_data]   Package omw-1.4 is already up-to-date!\n"
     ]
    }
   ],
   "source": [
    "import nltk\n",
    "from nltk.stem import WordNetLemmatizer\n",
    "from nltk.corpus import wordnet as wn\n",
    "nltk.download('wordnet')\n",
    "nltk.download('omw-1.4')\n",
    "\n",
    "# pennTree -> WordNet으로 변환\n",
    "def penn_to_wn(tag):\n",
    "    if tag.startswith('J'):\n",
    "        return wn.ADJ\n",
    "    elif tag.startswith('N'):\n",
    "        return wn.NOUN\n",
    "    elif tag.startswith('R'):\n",
    "        return wn.ADV\n",
    "    elif tag.startswith('V'):\n",
    "        return wn.VERB\n",
    "    else:\n",
    "        return\n",
    "    \n",
    "# 표제어 추출해주는 함수 정의\n",
    "def word_lemmatizer(pos_tagged_words):\n",
    "    lemmatizer = WordNetLemmatizer() # 객체 생성\n",
    "    lemmatized_words = [] # 표제어 추출된 단어를 담는 리스트\n",
    "    \n",
    "    for word, tag in pos_tagged_words:\n",
    "        wn_tag = penn_to_wn(tag)\n",
    "        \n",
    "        if wn_tag in (wn.NOUN, wn.ADJ, wn.ADV, wn.VERB):\n",
    "            lemmatized_words.append(lemmatizer.lemmatize(word, wn_tag)) # 표제어 추출 함수\n",
    "        else :\n",
    "            lemmatized_words.append(word)           \n",
    "    return lemmatized_words"
   ]
  },
  {
   "cell_type": "code",
   "execution_count": null,
   "id": "35864f26",
   "metadata": {},
   "outputs": [],
   "source": []
  },
  {
   "cell_type": "code",
   "execution_count": null,
   "id": "446f72e8",
   "metadata": {},
   "outputs": [],
   "source": []
  }
 ],
 "metadata": {
  "kernelspec": {
   "display_name": "Python 3 (ipykernel)",
   "language": "python",
   "name": "python3"
  },
  "language_info": {
   "codemirror_mode": {
    "name": "ipython",
    "version": 3
   },
   "file_extension": ".py",
   "mimetype": "text/x-python",
   "name": "python",
   "nbconvert_exporter": "python",
   "pygments_lexer": "ipython3",
   "version": "3.11.3"
  }
 },
 "nbformat": 4,
 "nbformat_minor": 5
}
