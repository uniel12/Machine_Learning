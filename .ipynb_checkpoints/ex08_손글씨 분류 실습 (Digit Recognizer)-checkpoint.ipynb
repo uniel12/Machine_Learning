{
 "cells": [
  {
   "cell_type": "markdown",
   "id": "140c7d17",
   "metadata": {},
   "source": [
    "# 목표\n",
    "- 손 글씨 숫자(0~9)를 분류하는 모델을 만들어보자\n",
    "- 이미지 데이터의 형태를 이해"
   ]
  },
  {
   "cell_type": "code",
   "execution_count": 1,
   "id": "dc556501",
   "metadata": {},
   "outputs": [],
   "source": [
    "import numpy as np\n",
    "import pandas as pd\n",
    "import matplotlib.pyplot as plt\n",
    "\n",
    "from sklearn.model_selection import train_test_split\n",
    "from sklearn.neighbors import KNeighborsClassifier\n",
    "from sklearn.tree import DecisionTreeClassifier\n",
    "from sklearn.linear_model import LogisticRegression\n",
    "from sklearn.svm import LinearSVC\n",
    "from sklearn.model_selection import cross_val_score"
   ]
  },
  {
   "cell_type": "code",
   "execution_count": 2,
   "id": "3158d7c0",
   "metadata": {},
   "outputs": [
    {
     "data": {
      "text/html": [
       "<div>\n",
       "<style scoped>\n",
       "    .dataframe tbody tr th:only-of-type {\n",
       "        vertical-align: middle;\n",
       "    }\n",
       "\n",
       "    .dataframe tbody tr th {\n",
       "        vertical-align: top;\n",
       "    }\n",
       "\n",
       "    .dataframe thead th {\n",
       "        text-align: right;\n",
       "    }\n",
       "</style>\n",
       "<table border=\"1\" class=\"dataframe\">\n",
       "  <thead>\n",
       "    <tr style=\"text-align: right;\">\n",
       "      <th></th>\n",
       "      <th>label</th>\n",
       "      <th>pixel0</th>\n",
       "      <th>pixel1</th>\n",
       "      <th>pixel2</th>\n",
       "      <th>pixel3</th>\n",
       "      <th>pixel4</th>\n",
       "      <th>pixel5</th>\n",
       "      <th>pixel6</th>\n",
       "      <th>pixel7</th>\n",
       "      <th>pixel8</th>\n",
       "      <th>...</th>\n",
       "      <th>pixel774</th>\n",
       "      <th>pixel775</th>\n",
       "      <th>pixel776</th>\n",
       "      <th>pixel777</th>\n",
       "      <th>pixel778</th>\n",
       "      <th>pixel779</th>\n",
       "      <th>pixel780</th>\n",
       "      <th>pixel781</th>\n",
       "      <th>pixel782</th>\n",
       "      <th>pixel783</th>\n",
       "    </tr>\n",
       "  </thead>\n",
       "  <tbody>\n",
       "    <tr>\n",
       "      <th>0</th>\n",
       "      <td>1</td>\n",
       "      <td>0</td>\n",
       "      <td>0</td>\n",
       "      <td>0</td>\n",
       "      <td>0</td>\n",
       "      <td>0</td>\n",
       "      <td>0</td>\n",
       "      <td>0</td>\n",
       "      <td>0</td>\n",
       "      <td>0</td>\n",
       "      <td>...</td>\n",
       "      <td>0</td>\n",
       "      <td>0</td>\n",
       "      <td>0</td>\n",
       "      <td>0</td>\n",
       "      <td>0</td>\n",
       "      <td>0</td>\n",
       "      <td>0</td>\n",
       "      <td>0</td>\n",
       "      <td>0</td>\n",
       "      <td>0</td>\n",
       "    </tr>\n",
       "    <tr>\n",
       "      <th>1</th>\n",
       "      <td>0</td>\n",
       "      <td>0</td>\n",
       "      <td>0</td>\n",
       "      <td>0</td>\n",
       "      <td>0</td>\n",
       "      <td>0</td>\n",
       "      <td>0</td>\n",
       "      <td>0</td>\n",
       "      <td>0</td>\n",
       "      <td>0</td>\n",
       "      <td>...</td>\n",
       "      <td>0</td>\n",
       "      <td>0</td>\n",
       "      <td>0</td>\n",
       "      <td>0</td>\n",
       "      <td>0</td>\n",
       "      <td>0</td>\n",
       "      <td>0</td>\n",
       "      <td>0</td>\n",
       "      <td>0</td>\n",
       "      <td>0</td>\n",
       "    </tr>\n",
       "    <tr>\n",
       "      <th>2</th>\n",
       "      <td>1</td>\n",
       "      <td>0</td>\n",
       "      <td>0</td>\n",
       "      <td>0</td>\n",
       "      <td>0</td>\n",
       "      <td>0</td>\n",
       "      <td>0</td>\n",
       "      <td>0</td>\n",
       "      <td>0</td>\n",
       "      <td>0</td>\n",
       "      <td>...</td>\n",
       "      <td>0</td>\n",
       "      <td>0</td>\n",
       "      <td>0</td>\n",
       "      <td>0</td>\n",
       "      <td>0</td>\n",
       "      <td>0</td>\n",
       "      <td>0</td>\n",
       "      <td>0</td>\n",
       "      <td>0</td>\n",
       "      <td>0</td>\n",
       "    </tr>\n",
       "    <tr>\n",
       "      <th>3</th>\n",
       "      <td>4</td>\n",
       "      <td>0</td>\n",
       "      <td>0</td>\n",
       "      <td>0</td>\n",
       "      <td>0</td>\n",
       "      <td>0</td>\n",
       "      <td>0</td>\n",
       "      <td>0</td>\n",
       "      <td>0</td>\n",
       "      <td>0</td>\n",
       "      <td>...</td>\n",
       "      <td>0</td>\n",
       "      <td>0</td>\n",
       "      <td>0</td>\n",
       "      <td>0</td>\n",
       "      <td>0</td>\n",
       "      <td>0</td>\n",
       "      <td>0</td>\n",
       "      <td>0</td>\n",
       "      <td>0</td>\n",
       "      <td>0</td>\n",
       "    </tr>\n",
       "    <tr>\n",
       "      <th>4</th>\n",
       "      <td>0</td>\n",
       "      <td>0</td>\n",
       "      <td>0</td>\n",
       "      <td>0</td>\n",
       "      <td>0</td>\n",
       "      <td>0</td>\n",
       "      <td>0</td>\n",
       "      <td>0</td>\n",
       "      <td>0</td>\n",
       "      <td>0</td>\n",
       "      <td>...</td>\n",
       "      <td>0</td>\n",
       "      <td>0</td>\n",
       "      <td>0</td>\n",
       "      <td>0</td>\n",
       "      <td>0</td>\n",
       "      <td>0</td>\n",
       "      <td>0</td>\n",
       "      <td>0</td>\n",
       "      <td>0</td>\n",
       "      <td>0</td>\n",
       "    </tr>\n",
       "    <tr>\n",
       "      <th>...</th>\n",
       "      <td>...</td>\n",
       "      <td>...</td>\n",
       "      <td>...</td>\n",
       "      <td>...</td>\n",
       "      <td>...</td>\n",
       "      <td>...</td>\n",
       "      <td>...</td>\n",
       "      <td>...</td>\n",
       "      <td>...</td>\n",
       "      <td>...</td>\n",
       "      <td>...</td>\n",
       "      <td>...</td>\n",
       "      <td>...</td>\n",
       "      <td>...</td>\n",
       "      <td>...</td>\n",
       "      <td>...</td>\n",
       "      <td>...</td>\n",
       "      <td>...</td>\n",
       "      <td>...</td>\n",
       "      <td>...</td>\n",
       "      <td>...</td>\n",
       "    </tr>\n",
       "    <tr>\n",
       "      <th>41995</th>\n",
       "      <td>0</td>\n",
       "      <td>0</td>\n",
       "      <td>0</td>\n",
       "      <td>0</td>\n",
       "      <td>0</td>\n",
       "      <td>0</td>\n",
       "      <td>0</td>\n",
       "      <td>0</td>\n",
       "      <td>0</td>\n",
       "      <td>0</td>\n",
       "      <td>...</td>\n",
       "      <td>0</td>\n",
       "      <td>0</td>\n",
       "      <td>0</td>\n",
       "      <td>0</td>\n",
       "      <td>0</td>\n",
       "      <td>0</td>\n",
       "      <td>0</td>\n",
       "      <td>0</td>\n",
       "      <td>0</td>\n",
       "      <td>0</td>\n",
       "    </tr>\n",
       "    <tr>\n",
       "      <th>41996</th>\n",
       "      <td>1</td>\n",
       "      <td>0</td>\n",
       "      <td>0</td>\n",
       "      <td>0</td>\n",
       "      <td>0</td>\n",
       "      <td>0</td>\n",
       "      <td>0</td>\n",
       "      <td>0</td>\n",
       "      <td>0</td>\n",
       "      <td>0</td>\n",
       "      <td>...</td>\n",
       "      <td>0</td>\n",
       "      <td>0</td>\n",
       "      <td>0</td>\n",
       "      <td>0</td>\n",
       "      <td>0</td>\n",
       "      <td>0</td>\n",
       "      <td>0</td>\n",
       "      <td>0</td>\n",
       "      <td>0</td>\n",
       "      <td>0</td>\n",
       "    </tr>\n",
       "    <tr>\n",
       "      <th>41997</th>\n",
       "      <td>7</td>\n",
       "      <td>0</td>\n",
       "      <td>0</td>\n",
       "      <td>0</td>\n",
       "      <td>0</td>\n",
       "      <td>0</td>\n",
       "      <td>0</td>\n",
       "      <td>0</td>\n",
       "      <td>0</td>\n",
       "      <td>0</td>\n",
       "      <td>...</td>\n",
       "      <td>0</td>\n",
       "      <td>0</td>\n",
       "      <td>0</td>\n",
       "      <td>0</td>\n",
       "      <td>0</td>\n",
       "      <td>0</td>\n",
       "      <td>0</td>\n",
       "      <td>0</td>\n",
       "      <td>0</td>\n",
       "      <td>0</td>\n",
       "    </tr>\n",
       "    <tr>\n",
       "      <th>41998</th>\n",
       "      <td>6</td>\n",
       "      <td>0</td>\n",
       "      <td>0</td>\n",
       "      <td>0</td>\n",
       "      <td>0</td>\n",
       "      <td>0</td>\n",
       "      <td>0</td>\n",
       "      <td>0</td>\n",
       "      <td>0</td>\n",
       "      <td>0</td>\n",
       "      <td>...</td>\n",
       "      <td>0</td>\n",
       "      <td>0</td>\n",
       "      <td>0</td>\n",
       "      <td>0</td>\n",
       "      <td>0</td>\n",
       "      <td>0</td>\n",
       "      <td>0</td>\n",
       "      <td>0</td>\n",
       "      <td>0</td>\n",
       "      <td>0</td>\n",
       "    </tr>\n",
       "    <tr>\n",
       "      <th>41999</th>\n",
       "      <td>9</td>\n",
       "      <td>0</td>\n",
       "      <td>0</td>\n",
       "      <td>0</td>\n",
       "      <td>0</td>\n",
       "      <td>0</td>\n",
       "      <td>0</td>\n",
       "      <td>0</td>\n",
       "      <td>0</td>\n",
       "      <td>0</td>\n",
       "      <td>...</td>\n",
       "      <td>0</td>\n",
       "      <td>0</td>\n",
       "      <td>0</td>\n",
       "      <td>0</td>\n",
       "      <td>0</td>\n",
       "      <td>0</td>\n",
       "      <td>0</td>\n",
       "      <td>0</td>\n",
       "      <td>0</td>\n",
       "      <td>0</td>\n",
       "    </tr>\n",
       "  </tbody>\n",
       "</table>\n",
       "<p>42000 rows × 785 columns</p>\n",
       "</div>"
      ],
      "text/plain": [
       "       label  pixel0  pixel1  pixel2  pixel3  pixel4  pixel5  pixel6  pixel7  \\\n",
       "0          1       0       0       0       0       0       0       0       0   \n",
       "1          0       0       0       0       0       0       0       0       0   \n",
       "2          1       0       0       0       0       0       0       0       0   \n",
       "3          4       0       0       0       0       0       0       0       0   \n",
       "4          0       0       0       0       0       0       0       0       0   \n",
       "...      ...     ...     ...     ...     ...     ...     ...     ...     ...   \n",
       "41995      0       0       0       0       0       0       0       0       0   \n",
       "41996      1       0       0       0       0       0       0       0       0   \n",
       "41997      7       0       0       0       0       0       0       0       0   \n",
       "41998      6       0       0       0       0       0       0       0       0   \n",
       "41999      9       0       0       0       0       0       0       0       0   \n",
       "\n",
       "       pixel8  ...  pixel774  pixel775  pixel776  pixel777  pixel778  \\\n",
       "0           0  ...         0         0         0         0         0   \n",
       "1           0  ...         0         0         0         0         0   \n",
       "2           0  ...         0         0         0         0         0   \n",
       "3           0  ...         0         0         0         0         0   \n",
       "4           0  ...         0         0         0         0         0   \n",
       "...       ...  ...       ...       ...       ...       ...       ...   \n",
       "41995       0  ...         0         0         0         0         0   \n",
       "41996       0  ...         0         0         0         0         0   \n",
       "41997       0  ...         0         0         0         0         0   \n",
       "41998       0  ...         0         0         0         0         0   \n",
       "41999       0  ...         0         0         0         0         0   \n",
       "\n",
       "       pixel779  pixel780  pixel781  pixel782  pixel783  \n",
       "0             0         0         0         0         0  \n",
       "1             0         0         0         0         0  \n",
       "2             0         0         0         0         0  \n",
       "3             0         0         0         0         0  \n",
       "4             0         0         0         0         0  \n",
       "...         ...       ...       ...       ...       ...  \n",
       "41995         0         0         0         0         0  \n",
       "41996         0         0         0         0         0  \n",
       "41997         0         0         0         0         0  \n",
       "41998         0         0         0         0         0  \n",
       "41999         0         0         0         0         0  \n",
       "\n",
       "[42000 rows x 785 columns]"
      ]
     },
     "execution_count": 2,
     "metadata": {},
     "output_type": "execute_result"
    }
   ],
   "source": [
    "# train 데이터만 불러오기\n",
    "# 데이터 불러오기\n",
    "digit_data = pd.read_csv('./digit/train.csv')\n",
    "digit_data"
   ]
  },
  {
   "cell_type": "code",
   "execution_count": 3,
   "id": "6d2fecc8",
   "metadata": {},
   "outputs": [
    {
     "data": {
      "text/plain": [
       "(42000, 785)"
      ]
     },
     "execution_count": 3,
     "metadata": {},
     "output_type": "execute_result"
    }
   ],
   "source": [
    "digit_data.shape\n",
    "# 픽셀 => 28X28 = 784"
   ]
  },
  {
   "cell_type": "markdown",
   "id": "19bd33c8",
   "metadata": {},
   "source": [
    "### EDA"
   ]
  },
  {
   "cell_type": "code",
   "execution_count": 4,
   "id": "378878ea",
   "metadata": {},
   "outputs": [
    {
     "data": {
      "text/plain": [
       "pixel0      0\n",
       "pixel1      0\n",
       "pixel2      0\n",
       "pixel3      0\n",
       "pixel4      0\n",
       "           ..\n",
       "pixel779    0\n",
       "pixel780    0\n",
       "pixel781    0\n",
       "pixel782    0\n",
       "pixel783    0\n",
       "Name: 0, Length: 784, dtype: int64"
      ]
     },
     "execution_count": 4,
     "metadata": {},
     "output_type": "execute_result"
    }
   ],
   "source": [
    "img0 = digit_data.iloc[ 0, 1: ]\n",
    "img0"
   ]
  },
  {
   "cell_type": "code",
   "execution_count": 5,
   "id": "474c5030",
   "metadata": {},
   "outputs": [
    {
     "name": "stdout",
     "output_type": "stream",
     "text": [
      "0\n",
      "255\n"
     ]
    }
   ],
   "source": [
    "# img0의 최댓값, 최솟값 확인\n",
    "print(img0.min())\n",
    "print(img0.max())"
   ]
  },
  {
   "cell_type": "code",
   "execution_count": 6,
   "id": "6cbfad80",
   "metadata": {},
   "outputs": [
    {
     "data": {
      "image/png": "[encoded data removed]",
      "text/plain": [
       "<Figure size 640x480 with 1 Axes>"
      ]
     },
     "metadata": {},
     "output_type": "display_data"
    }
   ],
   "source": [
    "# img0의 빈도 확인\n",
    "plt.hist(img0 , bins = 255)\n",
    "plt.show()"
   ]
  },
  {
   "cell_type": "code",
   "execution_count": 7,
   "id": "a83eace7",
   "metadata": {},
   "outputs": [
    {
     "data": {
      "image/png": "[encoded data removed]",
      "text/plain": [
       "<Figure size 640x480 with 1 Axes>"
      ]
     },
     "metadata": {},
     "output_type": "display_data"
    }
   ],
   "source": [
    "# 이미지 형태로 출력\n",
    "plt.imshow(img0.values.reshape(28,28) , cmap='gray') # 이미지 흑백 표시\n",
    "plt.show()"
   ]
  },
  {
   "cell_type": "code",
   "execution_count": 8,
   "id": "921b2d14",
   "metadata": {},
   "outputs": [
    {
     "data": {
      "image/png": "[encoded data removed]",
      "text/plain": [
       "<Figure size 640x480 with 1 Axes>"
      ]
     },
     "metadata": {},
     "output_type": "display_data"
    }
   ],
   "source": [
    "# 251번째 인덱스의 이미지 출력\n",
    "img251 = digit_data.iloc[ 251, 1: ]\n",
    "plt.imshow(img251.values.reshape(28,28) , cmap='gray') # 이미지 흑백 표시\n",
    "plt.show()"
   ]
  },
  {
   "cell_type": "code",
   "execution_count": 9,
   "id": "be525c2c",
   "metadata": {},
   "outputs": [
    {
     "data": {
      "text/plain": [
       "0"
      ]
     },
     "execution_count": 9,
     "metadata": {},
     "output_type": "execute_result"
    }
   ],
   "source": [
    "digit_data.iloc[251,0]"
   ]
  },
  {
   "cell_type": "markdown",
   "id": "82d1e4b3",
   "metadata": {},
   "source": [
    "### 5000장 추출"
   ]
  },
  {
   "cell_type": "code",
   "execution_count": 11,
   "id": "8f7dcf4a",
   "metadata": {},
   "outputs": [
    {
     "name": "stdout",
     "output_type": "stream",
     "text": [
      "(5000, 784)\n",
      "(5000,)\n"
     ]
    }
   ],
   "source": [
    "# 문제와 답 데이터 분리\n",
    "\n",
    "X = digit_data.iloc[ :5000 , 1:  ]\n",
    "y = digit_data.iloc[ :5000 , 0 ]\n",
    "print(X.shape)\n",
    "print(y.shape)"
   ]
  },
  {
   "cell_type": "code",
   "execution_count": 12,
   "id": "e0e853ad",
   "metadata": {},
   "outputs": [],
   "source": [
    "# 훈련데이터와 테스트데이터로 분리\n",
    "X_train, X_test, y_train, y_test = train_test_split(X,y,\n",
    "                                                    test_size=0.3,\n",
    "                                                    random_state=7) "
   ]
  },
  {
   "cell_type": "markdown",
   "id": "5293c5b1",
   "metadata": {},
   "source": [
    "### 모델링 ( 교차검증 활용)\n",
    "- KNN\n",
    "- Decision Tree\n",
    "- Logistic Regression\n",
    "- Linear SVM"
   ]
  },
  {
   "cell_type": "code",
   "execution_count": 13,
   "id": "d3b0df79",
   "metadata": {},
   "outputs": [],
   "source": [
    "# 모델 생성\n",
    "knn = KNeighborsClassifier()\n",
    "tree = DecisionTreeClassifier()\n",
    "logi = LogisticRegression()\n",
    "svm = LinearSVC()"
   ]
  },
  {
   "cell_type": "code",
   "execution_count": 14,
   "id": "acbf0335",
   "metadata": {},
   "outputs": [],
   "source": [
    "# 교차검증 진행 \n",
    "knn_result = cross_val_score(knn, X_train, y_train, cv=3, n_jobs=-1)\n",
    "tree_result = cross_val_score(tree, X_train, y_train, cv=3, n_jobs=-1)\n",
    "logi_result = cross_val_score(logi, X_train, y_train, cv=3, n_jobs=-1)\n",
    "svm_result = cross_val_score(svm, X_train, y_train, cv=3, n_jobs=-1)"
   ]
  },
  {
   "cell_type": "code",
   "execution_count": 15,
   "id": "293d610b",
   "metadata": {},
   "outputs": [
    {
     "name": "stdout",
     "output_type": "stream",
     "text": [
      "knn  교차검증 결과 :  [0.9117395  0.89717224 0.91680961] 0.90857378166395\n",
      "tree 교차검증 결과 :  [0.71893745 0.70179949 0.75385935] 0.7248654268346755\n",
      "logi 교차검증 결과 :  [0.8706084  0.87574979 0.88421955] 0.876859245802351\n",
      "svm  교차검증 결과 :  [0.81919452 0.82005141 0.82590051] 0.8217154814380404\n"
     ]
    }
   ],
   "source": [
    "# 교차검증 결과\n",
    "print(\"knn  교차검증 결과 : \", knn_result, knn_result.mean())\n",
    "print(\"tree 교차검증 결과 : \", tree_result, tree_result.mean())\n",
    "print(\"logi 교차검증 결과 : \", logi_result, logi_result.mean())\n",
    "print(\"svm  교차검증 결과 : \", svm_result, svm_result.mean())"
   ]
  },
  {
   "cell_type": "markdown",
   "id": "c26f191d",
   "metadata": {},
   "source": [
    "### 스케일링"
   ]
  },
  {
   "cell_type": "code",
   "execution_count": 16,
   "id": "4eb72ff0",
   "metadata": {},
   "outputs": [],
   "source": [
    "from sklearn.preprocessing import MinMaxScaler"
   ]
  },
  {
   "cell_type": "code",
   "execution_count": 17,
   "id": "782aa51a",
   "metadata": {},
   "outputs": [],
   "source": [
    "min_max_scaler = MinMaxScaler()"
   ]
  },
  {
   "cell_type": "code",
   "execution_count": 18,
   "id": "1e3673b1",
   "metadata": {},
   "outputs": [
    {
     "data": {
      "text/html": [
       "<style>#sk-container-id-1 {color: black;background-color: white;}#sk-container-id-1 pre{padding: 0;}#sk-container-id-1 div.sk-toggleable {background-color: white;}#sk-container-id-1 label.sk-toggleable__label {cursor: pointer;display: block;width: 100%;margin-bottom: 0;padding: 0.3em;box-sizing: border-box;text-align: center;}#sk-container-id-1 label.sk-toggleable__label-arrow:before {content: \"▸\";float: left;margin-right: 0.25em;color: #696969;}#sk-container-id-1 label.sk-toggleable__label-arrow:hover:before {color: black;}#sk-container-id-1 div.sk-estimator:hover label.sk-toggleable__label-arrow:before {color: black;}#sk-container-id-1 div.sk-toggleable__content {max-height: 0;max-width: 0;overflow: hidden;text-align: left;background-color: #f0f8ff;}#sk-container-id-1 div.sk-toggleable__content pre {margin: 0.2em;color: black;border-radius: 0.25em;background-color: #f0f8ff;}#sk-container-id-1 input.sk-toggleable__control:checked~div.sk-toggleable__content {max-height: 200px;max-width: 100%;overflow: auto;}#sk-container-id-1 input.sk-toggleable__control:checked~label.sk-toggleable__label-arrow:before {content: \"▾\";}#sk-container-id-1 div.sk-estimator input.sk-toggleable__control:checked~label.sk-toggleable__label {background-color: #d4ebff;}#sk-container-id-1 div.sk-label input.sk-toggleable__control:checked~label.sk-toggleable__label {background-color: #d4ebff;}#sk-container-id-1 input.sk-hidden--visually {border: 0;clip: rect(1px 1px 1px 1px);clip: rect(1px, 1px, 1px, 1px);height: 1px;margin: -1px;overflow: hidden;padding: 0;position: absolute;width: 1px;}#sk-container-id-1 div.sk-estimator {font-family: monospace;background-color: #f0f8ff;border: 1px dotted black;border-radius: 0.25em;box-sizing: border-box;margin-bottom: 0.5em;}#sk-container-id-1 div.sk-estimator:hover {background-color: #d4ebff;}#sk-container-id-1 div.sk-parallel-item::after {content: \"\";width: 100%;border-bottom: 1px solid gray;flex-grow: 1;}#sk-container-id-1 div.sk-label:hover label.sk-toggleable__label {background-color: #d4ebff;}#sk-container-id-1 div.sk-serial::before {content: \"\";position: absolute;border-left: 1px solid gray;box-sizing: border-box;top: 0;bottom: 0;left: 50%;z-index: 0;}#sk-container-id-1 div.sk-serial {display: flex;flex-direction: column;align-items: center;background-color: white;padding-right: 0.2em;padding-left: 0.2em;position: relative;}#sk-container-id-1 div.sk-item {position: relative;z-index: 1;}#sk-container-id-1 div.sk-parallel {display: flex;align-items: stretch;justify-content: center;background-color: white;position: relative;}#sk-container-id-1 div.sk-item::before, #sk-container-id-1 div.sk-parallel-item::before {content: \"\";position: absolute;border-left: 1px solid gray;box-sizing: border-box;top: 0;bottom: 0;left: 50%;z-index: -1;}#sk-container-id-1 div.sk-parallel-item {display: flex;flex-direction: column;z-index: 1;position: relative;background-color: white;}#sk-container-id-1 div.sk-parallel-item:first-child::after {align-self: flex-end;width: 50%;}#sk-container-id-1 div.sk-parallel-item:last-child::after {align-self: flex-start;width: 50%;}#sk-container-id-1 div.sk-parallel-item:only-child::after {width: 0;}#sk-container-id-1 div.sk-dashed-wrapped {border: 1px dashed gray;margin: 0 0.4em 0.5em 0.4em;box-sizing: border-box;padding-bottom: 0.4em;background-color: white;}#sk-container-id-1 div.sk-label label {font-family: monospace;font-weight: bold;display: inline-block;line-height: 1.2em;}#sk-container-id-1 div.sk-label-container {text-align: center;}#sk-container-id-1 div.sk-container {/* jupyter's `normalize.less` sets `[hidden] { display: none; }` but bootstrap.min.css set `[hidden] { display: none !important; }` so we also need the `!important` here to be able to override the default hidden behavior on the sphinx rendered scikit-learn.org. See: https://github.com/scikit-learn/scikit-learn/issues/21755 */display: inline-block !important;position: relative;}#sk-container-id-1 div.sk-text-repr-fallback {display: none;}</style><div id=\"sk-container-id-1\" class=\"sk-top-container\"><div class=\"sk-text-repr-fallback\"><pre>MinMaxScaler()</pre><b>In a Jupyter environment, please rerun this cell to show the HTML representation or trust the notebook. <br />On GitHub, the HTML representation is unable to render, please try loading this page with nbviewer.org.</b></div><div class=\"sk-container\" hidden><div class=\"sk-item\"><div class=\"sk-estimator sk-toggleable\"><input class=\"sk-toggleable__control sk-hidden--visually\" id=\"sk-estimator-id-1\" type=\"checkbox\" checked><label for=\"sk-estimator-id-1\" class=\"sk-toggleable__label sk-toggleable__label-arrow\">MinMaxScaler</label><div class=\"sk-toggleable__content\"><pre>MinMaxScaler()</pre></div></div></div></div></div>"
      ],
      "text/plain": [
       "MinMaxScaler()"
      ]
     },
     "execution_count": 18,
     "metadata": {},
     "output_type": "execute_result"
    }
   ],
   "source": [
    "min_max_scaler.fit(X_train)"
   ]
  },
  {
   "cell_type": "code",
   "execution_count": 19,
   "id": "71f9ae36",
   "metadata": {},
   "outputs": [],
   "source": [
    "# X_train, X_test 스케일러 적용\n",
    "X_train_scaled = min_max_scaler.transform(X_train)\n",
    "X_test_scaled = min_max_scaler.transform(X_test)"
   ]
  },
  {
   "cell_type": "code",
   "execution_count": 20,
   "id": "98adb26f",
   "metadata": {},
   "outputs": [
    {
     "data": {
      "image/png": "[encoded data removed]",
      "text/plain": [
       "<Figure size 640x480 with 1 Axes>"
      ]
     },
     "metadata": {},
     "output_type": "display_data"
    }
   ],
   "source": [
    "plt.hist(X_train_scaled[0])\n",
    "plt.show()"
   ]
  },
  {
   "cell_type": "markdown",
   "id": "0b61b755",
   "metadata": {},
   "source": [
    "### KNN 하이퍼파리미터 튜닝"
   ]
  },
  {
   "cell_type": "code",
   "execution_count": 21,
   "id": "f18703b1",
   "metadata": {},
   "outputs": [],
   "source": [
    "# 반복문을 돌릴 때 반복문이 돌아가는 것을 시각적으로 확인\n",
    "from tqdm import tqdm as tq \n",
    "from sklearn.metrics import accuracy_score"
   ]
  },
  {
   "cell_type": "code",
   "execution_count": 22,
   "id": "fd0b346a",
   "metadata": {},
   "outputs": [
    {
     "name": "stderr",
     "output_type": "stream",
     "text": [
      "100%|██████████████████████████████████████████████████████████████████████████████████| 25/25 [00:16<00:00,  1.53it/s]\n"
     ]
    }
   ],
   "source": [
    "cv_result_list = [] # 교차검증 점수를 담을 리스트\n",
    "train_result_list = [] # 훈련데이터 점수를 담을 리스트\n",
    "\n",
    "for k in tq(range(1,50,2)):\n",
    "    m = KNeighborsClassifier(n_neighbors = k) # 이웃의 숫자를 변경\n",
    "    # 검증데이터 평가\n",
    "    result = cross_val_score(m, X_train_scaled, y_train, cv=3, n_jobs = -1)\n",
    "    cv_result_list.append(result.mean())\n",
    "    \n",
    "    # 훈련데이터 평가\n",
    "    ## 훈련\n",
    "    m.fit(X_train_scaled,y_train)\n",
    "    ## 예측\n",
    "    pre = m.predict(X_test_scaled)\n",
    "    ## 평가\n",
    "    train_result = accuracy_score(pre,y_test)\n",
    "    train_result_list.append(train_result)"
   ]
  },
  {
   "cell_type": "code",
   "execution_count": 23,
   "id": "9ea33122",
   "metadata": {},
   "outputs": [
    {
     "data": {
      "text/plain": [
       "[0.9157145985734044,\n",
       " 0.9180006398563899,\n",
       " 0.90857378166395,\n",
       " 0.9082883939555618,\n",
       " 0.9017149229110233,\n",
       " 0.894859738677947,\n",
       " 0.8917160644618568,\n",
       " 0.8902866762400158,\n",
       " 0.8845718180005419,\n",
       " 0.8822870015575065,\n",
       " 0.8757150003209081,\n",
       " 0.8711438976268971,\n",
       " 0.8677158155743788,\n",
       " 0.8662859374165578,\n",
       " 0.8631442229443879,\n",
       " 0.8614296919821487,\n",
       " 0.8611440593057704,\n",
       " 0.8574305895448641,\n",
       " 0.8534314871075797,\n",
       " 0.8522892013700569,\n",
       " 0.8488603844135687,\n",
       " 0.846005037521747,\n",
       " 0.8417188326001441,\n",
       " 0.8391464237368104,\n",
       " 0.8380036480633075]"
      ]
     },
     "execution_count": 23,
     "metadata": {},
     "output_type": "execute_result"
    }
   ],
   "source": [
    "cv_result_list"
   ]
  },
  {
   "cell_type": "code",
   "execution_count": null,
   "id": "a80fc06c",
   "metadata": {},
   "outputs": [],
   "source": [
    "train_result_list"
   ]
  },
  {
   "cell_type": "markdown",
   "id": "4942fa73",
   "metadata": {},
   "source": [
    "### DecisionTree 모델 하이퍼 파라미터 튜닝"
   ]
  },
  {
   "cell_type": "code",
   "execution_count": 24,
   "id": "dd415b9c",
   "metadata": {},
   "outputs": [
    {
     "name": "stderr",
     "output_type": "stream",
     "text": [
      "100%|██████████████████████████████████████████████████████████████████████████████████| 25/25 [00:21<00:00,  1.16it/s]\n"
     ]
    }
   ],
   "source": [
    "cv_result_list2 = [] # 교차검증 점수를 담을 리스트\n",
    "train_result_list2 = [] # 훈련데이터 점수를 담을 리스트\n",
    "\n",
    "for k in tq(range(1,50,2)):\n",
    "    m = DecisionTreeClassifier(max_depth = k) \n",
    "    # 검증데이터 평가\n",
    "    result = cross_val_score(m, X_train_scaled, y_train, cv=3, n_jobs = -1)\n",
    "    cv_result_list2.append(result.mean())\n",
    "    \n",
    "    # 훈련데이터 평가\n",
    "    ## 훈련\n",
    "    m.fit(X_train_scaled,y_train)\n",
    "    ## 예측\n",
    "    pre = m.predict(X_test_scaled)\n",
    "    ## 평가\n",
    "    train_result = accuracy_score(pre,y_test)\n",
    "    train_result_list2.append(train_result)"
   ]
  },
  {
   "cell_type": "markdown",
   "id": "3322fd70",
   "metadata": {},
   "source": [
    "### LogisticRegression 튜닝"
   ]
  },
  {
   "cell_type": "code",
   "execution_count": 25,
   "id": "c2264793",
   "metadata": {},
   "outputs": [
    {
     "name": "stderr",
     "output_type": "stream",
     "text": [
      " 14%|████████████                                                                        | 1/7 [00:00<00:05,  1.15it/s]C:\\Users\\smhrd\\anaconda3\\Lib\\site-packages\\sklearn\\linear_model\\_logistic.py:458: ConvergenceWarning: lbfgs failed to converge (status=1):\n",
      "STOP: TOTAL NO. of ITERATIONS REACHED LIMIT.\n",
      "\n",
      "Increase the number of iterations (max_iter) or scale the data as shown in:\n",
      "    https://scikit-learn.org/stable/modules/preprocessing.html\n",
      "Please also refer to the documentation for alternative solver options:\n",
      "    https://scikit-learn.org/stable/modules/linear_model.html#logistic-regression\n",
      "  n_iter_i = _check_optimize_result(\n",
      " 29%|████████████████████████                                                            | 2/7 [00:02<00:06,  1.29s/it]C:\\Users\\smhrd\\anaconda3\\Lib\\site-packages\\sklearn\\linear_model\\_logistic.py:458: ConvergenceWarning: lbfgs failed to converge (status=1):\n",
      "STOP: TOTAL NO. of ITERATIONS REACHED LIMIT.\n",
      "\n",
      "Increase the number of iterations (max_iter) or scale the data as shown in:\n",
      "    https://scikit-learn.org/stable/modules/preprocessing.html\n",
      "Please also refer to the documentation for alternative solver options:\n",
      "    https://scikit-learn.org/stable/modules/linear_model.html#logistic-regression\n",
      "  n_iter_i = _check_optimize_result(\n",
      " 43%|████████████████████████████████████                                                | 3/7 [00:04<00:05,  1.42s/it]C:\\Users\\smhrd\\anaconda3\\Lib\\site-packages\\sklearn\\linear_model\\_logistic.py:458: ConvergenceWarning: lbfgs failed to converge (status=1):\n",
      "STOP: TOTAL NO. of ITERATIONS REACHED LIMIT.\n",
      "\n",
      "Increase the number of iterations (max_iter) or scale the data as shown in:\n",
      "    https://scikit-learn.org/stable/modules/preprocessing.html\n",
      "Please also refer to the documentation for alternative solver options:\n",
      "    https://scikit-learn.org/stable/modules/linear_model.html#logistic-regression\n",
      "  n_iter_i = _check_optimize_result(\n",
      " 57%|████████████████████████████████████████████████                                    | 4/7 [00:05<00:04,  1.52s/it]C:\\Users\\smhrd\\anaconda3\\Lib\\site-packages\\sklearn\\linear_model\\_logistic.py:458: ConvergenceWarning: lbfgs failed to converge (status=1):\n",
      "STOP: TOTAL NO. of ITERATIONS REACHED LIMIT.\n",
      "\n",
      "Increase the number of iterations (max_iter) or scale the data as shown in:\n",
      "    https://scikit-learn.org/stable/modules/preprocessing.html\n",
      "Please also refer to the documentation for alternative solver options:\n",
      "    https://scikit-learn.org/stable/modules/linear_model.html#logistic-regression\n",
      "  n_iter_i = _check_optimize_result(\n",
      " 71%|████████████████████████████████████████████████████████████                        | 5/7 [00:07<00:03,  1.54s/it]C:\\Users\\smhrd\\anaconda3\\Lib\\site-packages\\sklearn\\linear_model\\_logistic.py:458: ConvergenceWarning: lbfgs failed to converge (status=1):\n",
      "STOP: TOTAL NO. of ITERATIONS REACHED LIMIT.\n",
      "\n",
      "Increase the number of iterations (max_iter) or scale the data as shown in:\n",
      "    https://scikit-learn.org/stable/modules/preprocessing.html\n",
      "Please also refer to the documentation for alternative solver options:\n",
      "    https://scikit-learn.org/stable/modules/linear_model.html#logistic-regression\n",
      "  n_iter_i = _check_optimize_result(\n",
      " 86%|████████████████████████████████████████████████████████████████████████            | 6/7 [00:08<00:01,  1.58s/it]C:\\Users\\smhrd\\anaconda3\\Lib\\site-packages\\sklearn\\linear_model\\_logistic.py:458: ConvergenceWarning: lbfgs failed to converge (status=1):\n",
      "STOP: TOTAL NO. of ITERATIONS REACHED LIMIT.\n",
      "\n",
      "Increase the number of iterations (max_iter) or scale the data as shown in:\n",
      "    https://scikit-learn.org/stable/modules/preprocessing.html\n",
      "Please also refer to the documentation for alternative solver options:\n",
      "    https://scikit-learn.org/stable/modules/linear_model.html#logistic-regression\n",
      "  n_iter_i = _check_optimize_result(\n",
      "100%|████████████████████████████████████████████████████████████████████████████████████| 7/7 [00:10<00:00,  1.50s/it]\n"
     ]
    }
   ],
   "source": [
    "cv_result_list3 = [] # 교차검증 점수를 담을 리스트\n",
    "train_result_list3 = [] # 훈련데이터 점수를 담을 리스트\n",
    "\n",
    "for c in tq([0.001,0.01,0.1,1,10,100,1000]):\n",
    "    m = LogisticRegression(C=c) # 규제값 변경\n",
    "    # C값이 클수록 규제강도가 약해지고, 작아질 수록 규제강도가 커진다.\n",
    "    # 검증데이터 평가\n",
    "    result = cross_val_score(m, X_train_scaled, y_train, cv=3, n_jobs = -1)\n",
    "    cv_result_list3.append(result.mean())\n",
    "    \n",
    "    # 훈련데이터 평가\n",
    "    ## 훈련\n",
    "    m.fit(X_train_scaled,y_train)\n",
    "    ## 예측\n",
    "    pre = m.predict(X_test_scaled)\n",
    "    ## 평가\n",
    "    train_result = accuracy_score(pre,y_test)\n",
    "    train_result_list3.append(train_result)"
   ]
  },
  {
   "cell_type": "markdown",
   "id": "dcf1b529",
   "metadata": {},
   "source": [
    "### SVM 하이퍼파리미터 튜닝"
   ]
  },
  {
   "cell_type": "code",
   "execution_count": 26,
   "id": "3032acb1",
   "metadata": {},
   "outputs": [
    {
     "name": "stderr",
     "output_type": "stream",
     "text": [
      " 43%|████████████████████████████████████                                                | 3/7 [00:01<00:02,  1.43it/s]C:\\Users\\smhrd\\anaconda3\\Lib\\site-packages\\sklearn\\svm\\_base.py:1244: ConvergenceWarning: Liblinear failed to converge, increase the number of iterations.\n",
      "  warnings.warn(\n",
      " 57%|████████████████████████████████████████████████                                    | 4/7 [00:03<00:03,  1.12s/it]C:\\Users\\smhrd\\anaconda3\\Lib\\site-packages\\sklearn\\svm\\_base.py:1244: ConvergenceWarning: Liblinear failed to converge, increase the number of iterations.\n",
      "  warnings.warn(\n",
      " 71%|████████████████████████████████████████████████████████████                        | 5/7 [00:05<00:02,  1.38s/it]C:\\Users\\smhrd\\anaconda3\\Lib\\site-packages\\sklearn\\svm\\_base.py:1244: ConvergenceWarning: Liblinear failed to converge, increase the number of iterations.\n",
      "  warnings.warn(\n",
      " 86%|████████████████████████████████████████████████████████████████████████            | 6/7 [00:07<00:01,  1.47s/it]C:\\Users\\smhrd\\anaconda3\\Lib\\site-packages\\sklearn\\svm\\_base.py:1244: ConvergenceWarning: Liblinear failed to converge, increase the number of iterations.\n",
      "  warnings.warn(\n",
      "100%|████████████████████████████████████████████████████████████████████████████████████| 7/7 [00:08<00:00,  1.27s/it]\n"
     ]
    }
   ],
   "source": [
    "cv_result_list4 = [] # 교차검증 점수를 담을 리스트\n",
    "train_result_list4 = [] # 훈련데이터 점수를 담을 리스트\n",
    "\n",
    "for c in tq([0.001,0.01,0.1,1,10,100,1000]):\n",
    "    m = LinearSVC(C = c) \n",
    "    # 검증데이터 평가\n",
    "    result = cross_val_score(m, X_train_scaled, y_train, cv=3, n_jobs = -1)\n",
    "    cv_result_list4.append(result.mean())\n",
    "    \n",
    "    # 훈련데이터 평가\n",
    "    ## 훈련\n",
    "    m.fit(X_train_scaled,y_train)\n",
    "    ## 예측\n",
    "    pre = m.predict(X_test_scaled)\n",
    "    ## 평가\n",
    "    train_result = accuracy_score(pre,y_test)\n",
    "    train_result_list4.append(train_result)"
   ]
  },
  {
   "cell_type": "markdown",
   "id": "65039440",
   "metadata": {},
   "source": [
    "### 결과 시각화"
   ]
  },
  {
   "cell_type": "markdown",
   "id": "d18844d5",
   "metadata": {},
   "source": [
    "#### 1. KNN"
   ]
  },
  {
   "cell_type": "code",
   "execution_count": 27,
   "id": "b8c11465",
   "metadata": {},
   "outputs": [
    {
     "data": {
      "image/png": "[encoded data removed]",
      "text/plain": [
       "<Figure size 1000x500 with 1 Axes>"
      ]
     },
     "metadata": {},
     "output_type": "display_data"
    }
   ],
   "source": [
    "plt.figure(figsize=(10,5))\n",
    "\n",
    "plt.plot(train_result_list, label='train')\n",
    "plt.plot(cv_result_list, label='validation')\n",
    "\n",
    "plt.legend() # 범례표시\n",
    "plt.xlabel('K')\n",
    "plt.ylabel('score')\n",
    "plt.xticks(range(25),range(1,50,2)) # 눈금의 개수, 눈금에 들어갈 값\n",
    "\n",
    "plt.show()\n",
    "\n",
    "# KNN 모델은 이웃의 개수가 작아질 수록 모델의 복잡도가 증가\n",
    "# 이웃의 개수가 많아지면 모델이 단순\n",
    "# n_neihbors = 3 이 적정"
   ]
  },
  {
   "cell_type": "markdown",
   "id": "74484279",
   "metadata": {},
   "source": [
    "#### 2.DecisionTree"
   ]
  },
  {
   "cell_type": "code",
   "execution_count": 35,
   "id": "05a0b9cd",
   "metadata": {},
   "outputs": [
    {
     "data": {
      "image/png": "[encoded data removed]",
      "text/plain": [
       "<Figure size 1000x500 with 1 Axes>"
      ]
     },
     "metadata": {},
     "output_type": "display_data"
    }
   ],
   "source": [
    "plt.figure(figsize=(10,5))\n",
    "\n",
    "plt.plot(train_result_list2, label='train')\n",
    "plt.plot(cv_result_list2, label='validation')\n",
    "\n",
    "plt.legend() # 범례표시\n",
    "plt.xlabel('Max_depth')\n",
    "plt.ylabel('score')\n",
    "plt.xticks(range(25),range(1,50,2)) # 눈금의 개수, 눈금에 들어갈 값\n",
    "\n",
    "plt.show()\n",
    "\n",
    "# tree 모델에서는 max_depth 4로 설정"
   ]
  },
  {
   "cell_type": "markdown",
   "id": "6d1ac89f",
   "metadata": {},
   "source": [
    "#### 3. logistic"
   ]
  },
  {
   "cell_type": "code",
   "execution_count": 37,
   "id": "56be8d4d",
   "metadata": {},
   "outputs": [
    {
     "data": {
      "image/png": "[encoded data removed]",
      "text/plain": [
       "<Figure size 1000x500 with 1 Axes>"
      ]
     },
     "metadata": {},
     "output_type": "display_data"
    }
   ],
   "source": [
    "plt.figure(figsize=(10,5))\n",
    "\n",
    "plt.plot(train_result_list3, label='train')\n",
    "plt.plot(cv_result_list3, label='validation')\n",
    "\n",
    "plt.legend() # 범례표시\n",
    "plt.xlabel('C')\n",
    "plt.ylabel('score')\n",
    "plt.xticks(range(7),[0.001,0.01,0.1,1,10,100,1000])\n",
    "\n",
    "plt.show()\n",
    "\n",
    "# logi 모델에서는 C를 0.1로 설정"
   ]
  },
  {
   "cell_type": "markdown",
   "id": "ea43e912",
   "metadata": {},
   "source": [
    "#### 4. SVM"
   ]
  },
  {
   "cell_type": "code",
   "execution_count": 38,
   "id": "1892b123",
   "metadata": {},
   "outputs": [
    {
     "data": {
      "image/png": "[encoded data removed]",
      "text/plain": [
       "<Figure size 1000x500 with 1 Axes>"
      ]
     },
     "metadata": {},
     "output_type": "display_data"
    }
   ],
   "source": [
    "plt.figure(figsize=(10,5))\n",
    "\n",
    "plt.plot(train_result_list4, label='train')\n",
    "plt.plot(cv_result_list4, label='validation')\n",
    "\n",
    "plt.legend() # 범례표시\n",
    "plt.xlabel('C')\n",
    "plt.ylabel('score')\n",
    "plt.xticks(range(7),[0.001,0.01,0.1,1,10,100,1000])\n",
    "\n",
    "plt.show()\n",
    "\n",
    "# SVM 모델에서는 C를 0.001로 설정"
   ]
  },
  {
   "cell_type": "markdown",
   "id": "1193a702",
   "metadata": {},
   "source": [
    "### 하이퍼파라미터 조정 후 학습 및 예측"
   ]
  },
  {
   "cell_type": "code",
   "execution_count": 40,
   "id": "0f088b1c",
   "metadata": {},
   "outputs": [],
   "source": [
    "final_knn_model = KNeighborsClassifier(n_neighbors=3)\n",
    "final_tree_model = DecisionTreeClassifier(max_depth=4)\n",
    "final_logi_model = LogisticRegression(C=0.1)\n",
    "final_svm_model = LinearSVC(C=0.001)"
   ]
  },
  {
   "cell_type": "code",
   "execution_count": 41,
   "id": "c134160d",
   "metadata": {},
   "outputs": [
    {
     "name": "stderr",
     "output_type": "stream",
     "text": [
      "C:\\Users\\smhrd\\anaconda3\\Lib\\site-packages\\sklearn\\linear_model\\_logistic.py:458: ConvergenceWarning: lbfgs failed to converge (status=1):\n",
      "STOP: TOTAL NO. of ITERATIONS REACHED LIMIT.\n",
      "\n",
      "Increase the number of iterations (max_iter) or scale the data as shown in:\n",
      "    https://scikit-learn.org/stable/modules/preprocessing.html\n",
      "Please also refer to the documentation for alternative solver options:\n",
      "    https://scikit-learn.org/stable/modules/linear_model.html#logistic-regression\n",
      "  n_iter_i = _check_optimize_result(\n"
     ]
    },
    {
     "data": {
      "text/html": [
       "<style>#sk-container-id-2 {color: black;background-color: white;}#sk-container-id-2 pre{padding: 0;}#sk-container-id-2 div.sk-toggleable {background-color: white;}#sk-container-id-2 label.sk-toggleable__label {cursor: pointer;display: block;width: 100%;margin-bottom: 0;padding: 0.3em;box-sizing: border-box;text-align: center;}#sk-container-id-2 label.sk-toggleable__label-arrow:before {content: \"▸\";float: left;margin-right: 0.25em;color: #696969;}#sk-container-id-2 label.sk-toggleable__label-arrow:hover:before {color: black;}#sk-container-id-2 div.sk-estimator:hover label.sk-toggleable__label-arrow:before {color: black;}#sk-container-id-2 div.sk-toggleable__content {max-height: 0;max-width: 0;overflow: hidden;text-align: left;background-color: #f0f8ff;}#sk-container-id-2 div.sk-toggleable__content pre {margin: 0.2em;color: black;border-radius: 0.25em;background-color: #f0f8ff;}#sk-container-id-2 input.sk-toggleable__control:checked~div.sk-toggleable__content {max-height: 200px;max-width: 100%;overflow: auto;}#sk-container-id-2 input.sk-toggleable__control:checked~label.sk-toggleable__label-arrow:before {content: \"▾\";}#sk-container-id-2 div.sk-estimator input.sk-toggleable__control:checked~label.sk-toggleable__label {background-color: #d4ebff;}#sk-container-id-2 div.sk-label input.sk-toggleable__control:checked~label.sk-toggleable__label {background-color: #d4ebff;}#sk-container-id-2 input.sk-hidden--visually {border: 0;clip: rect(1px 1px 1px 1px);clip: rect(1px, 1px, 1px, 1px);height: 1px;margin: -1px;overflow: hidden;padding: 0;position: absolute;width: 1px;}#sk-container-id-2 div.sk-estimator {font-family: monospace;background-color: #f0f8ff;border: 1px dotted black;border-radius: 0.25em;box-sizing: border-box;margin-bottom: 0.5em;}#sk-container-id-2 div.sk-estimator:hover {background-color: #d4ebff;}#sk-container-id-2 div.sk-parallel-item::after {content: \"\";width: 100%;border-bottom: 1px solid gray;flex-grow: 1;}#sk-container-id-2 div.sk-label:hover label.sk-toggleable__label {background-color: #d4ebff;}#sk-container-id-2 div.sk-serial::before {content: \"\";position: absolute;border-left: 1px solid gray;box-sizing: border-box;top: 0;bottom: 0;left: 50%;z-index: 0;}#sk-container-id-2 div.sk-serial {display: flex;flex-direction: column;align-items: center;background-color: white;padding-right: 0.2em;padding-left: 0.2em;position: relative;}#sk-container-id-2 div.sk-item {position: relative;z-index: 1;}#sk-container-id-2 div.sk-parallel {display: flex;align-items: stretch;justify-content: center;background-color: white;position: relative;}#sk-container-id-2 div.sk-item::before, #sk-container-id-2 div.sk-parallel-item::before {content: \"\";position: absolute;border-left: 1px solid gray;box-sizing: border-box;top: 0;bottom: 0;left: 50%;z-index: -1;}#sk-container-id-2 div.sk-parallel-item {display: flex;flex-direction: column;z-index: 1;position: relative;background-color: white;}#sk-container-id-2 div.sk-parallel-item:first-child::after {align-self: flex-end;width: 50%;}#sk-container-id-2 div.sk-parallel-item:last-child::after {align-self: flex-start;width: 50%;}#sk-container-id-2 div.sk-parallel-item:only-child::after {width: 0;}#sk-container-id-2 div.sk-dashed-wrapped {border: 1px dashed gray;margin: 0 0.4em 0.5em 0.4em;box-sizing: border-box;padding-bottom: 0.4em;background-color: white;}#sk-container-id-2 div.sk-label label {font-family: monospace;font-weight: bold;display: inline-block;line-height: 1.2em;}#sk-container-id-2 div.sk-label-container {text-align: center;}#sk-container-id-2 div.sk-container {/* jupyter's `normalize.less` sets `[hidden] { display: none; }` but bootstrap.min.css set `[hidden] { display: none !important; }` so we also need the `!important` here to be able to override the default hidden behavior on the sphinx rendered scikit-learn.org. See: https://github.com/scikit-learn/scikit-learn/issues/21755 */display: inline-block !important;position: relative;}#sk-container-id-2 div.sk-text-repr-fallback {display: none;}</style><div id=\"sk-container-id-2\" class=\"sk-top-container\"><div class=\"sk-text-repr-fallback\"><pre>LinearSVC(C=0.001)</pre><b>In a Jupyter environment, please rerun this cell to show the HTML representation or trust the notebook. <br />On GitHub, the HTML representation is unable to render, please try loading this page with nbviewer.org.</b></div><div class=\"sk-container\" hidden><div class=\"sk-item\"><div class=\"sk-estimator sk-toggleable\"><input class=\"sk-toggleable__control sk-hidden--visually\" id=\"sk-estimator-id-2\" type=\"checkbox\" checked><label for=\"sk-estimator-id-2\" class=\"sk-toggleable__label sk-toggleable__label-arrow\">LinearSVC</label><div class=\"sk-toggleable__content\"><pre>LinearSVC(C=0.001)</pre></div></div></div></div></div>"
      ],
      "text/plain": [
       "LinearSVC(C=0.001)"
      ]
     },
     "execution_count": 41,
     "metadata": {},
     "output_type": "execute_result"
    }
   ],
   "source": [
    "# 훈련\n",
    "final_knn_model.fit(X_train_scaled,y_train)\n",
    "final_tree_model.fit(X_train_scaled,y_train)\n",
    "final_logi_model.fit(X_train_scaled,y_train)\n",
    "final_svm_model.fit(X_train_scaled,y_train)"
   ]
  },
  {
   "cell_type": "code",
   "execution_count": 42,
   "id": "6f41aed0",
   "metadata": {},
   "outputs": [],
   "source": [
    "# 예측\n",
    "knn_pre = final_knn_model.predict(X_test_scaled)\n",
    "tree_pre = final_tree_model.predict(X_test_scaled)\n",
    "logi_pre = final_logi_model.predict(X_test_scaled)\n",
    "svm_pre = final_svm_model.predict(X_test_scaled)"
   ]
  },
  {
   "cell_type": "code",
   "execution_count": 44,
   "id": "f955d195",
   "metadata": {},
   "outputs": [
    {
     "name": "stdout",
     "output_type": "stream",
     "text": [
      "knn  평가 :  0.916\n",
      "tree 평가 :  0.58\n",
      "logi 평가 :  0.8986666666666666\n",
      "svm  평가 :  0.8666666666666667\n"
     ]
    }
   ],
   "source": [
    "# 평가\n",
    "knn_result = accuracy_score(knn_pre, y_test)\n",
    "tree_result = accuracy_score(tree_pre, y_test)\n",
    "logi_result = accuracy_score(logi_pre, y_test)\n",
    "svm_result = accuracy_score(svm_pre, y_test)\n",
    "\n",
    "print(\"knn  평가 : \",knn_result)\n",
    "print(\"tree 평가 : \",tree_result)\n",
    "print(\"logi 평가 : \",logi_result)\n",
    "print(\"svm  평가 : \",svm_result)"
   ]
  },
  {
   "cell_type": "markdown",
   "id": "60680fdd",
   "metadata": {},
   "source": [
    "### 예측의 불확실성 추정\n",
    "- 분류기의 예측의 불확실성을 추정할 수 있는 기능\n",
    "- 모델명.predict_proba()"
   ]
  },
  {
   "cell_type": "code",
   "execution_count": 53,
   "id": "4120d6ba",
   "metadata": {},
   "outputs": [
    {
     "data": {
      "image/png": "[encoded data removed]",
      "text/plain": [
       "<Figure size 640x480 with 1 Axes>"
      ]
     },
     "metadata": {},
     "output_type": "display_data"
    }
   ],
   "source": [
    "# X_test 50번째 인덱스의 이미지 출력\n",
    "plt.imshow(X_test.iloc[50].values.reshape(28,28) , cmap='gray')\n",
    "plt.show()"
   ]
  },
  {
   "cell_type": "code",
   "execution_count": 68,
   "id": "c52a7bd0",
   "metadata": {},
   "outputs": [
    {
     "name": "stdout",
     "output_type": "stream",
     "text": [
      "예측 확률: \n",
      " [[0.33333333 0.         0.         0.         0.         0.\n",
      "  0.         0.         0.         0.66666667]]\n"
     ]
    },
    {
     "name": "stderr",
     "output_type": "stream",
     "text": [
      "C:\\Users\\smhrd\\anaconda3\\Lib\\site-packages\\sklearn\\base.py:432: UserWarning: X has feature names, but KNeighborsClassifier was fitted without feature names\n",
      "  warnings.warn(\n"
     ]
    }
   ],
   "source": [
    "# X_test 50번째 인덱스의 각 클래스 별 확률값 확인\n",
    "# 0~9까지 예측 확률, 클래스 간의 확률의 합은 1\n",
    "print(\"예측 확률: \\n\",final_knn_model.predict_proba(X_test[50:51])) "
   ]
  },
  {
   "cell_type": "code",
   "execution_count": 69,
   "id": "235f6a9c",
   "metadata": {},
   "outputs": [
    {
     "name": "stdout",
     "output_type": "stream",
     "text": [
      "예측 확률: \n",
      " [[0.01176471 0.00392157 0.03333333 0.17843137 0.10784314 0.09019608\n",
      "  0.01960784 0.03529412 0.08431373 0.43529412]]\n"
     ]
    },
    {
     "name": "stderr",
     "output_type": "stream",
     "text": [
      "C:\\Users\\smhrd\\anaconda3\\Lib\\site-packages\\sklearn\\base.py:432: UserWarning: X has feature names, but DecisionTreeClassifier was fitted without feature names\n",
      "  warnings.warn(\n"
     ]
    }
   ],
   "source": [
    "print(\"예측 확률: \\n\",final_tree_model.predict_proba(X_test[50:51])) "
   ]
  },
  {
   "cell_type": "code",
   "execution_count": 70,
   "id": "5752ea1f",
   "metadata": {},
   "outputs": [
    {
     "name": "stdout",
     "output_type": "stream",
     "text": [
      "예측 확률: \n",
      " [[0.00000000e+000 0.00000000e+000 0.00000000e+000 0.00000000e+000\n",
      "  0.00000000e+000 0.00000000e+000 0.00000000e+000 0.00000000e+000\n",
      "  1.72563226e-299 1.00000000e+000]]\n"
     ]
    },
    {
     "name": "stderr",
     "output_type": "stream",
     "text": [
      "C:\\Users\\smhrd\\anaconda3\\Lib\\site-packages\\sklearn\\base.py:432: UserWarning: X has feature names, but LogisticRegression was fitted without feature names\n",
      "  warnings.warn(\n"
     ]
    }
   ],
   "source": [
    "print(\"예측 확률: \\n\",final_logi_model.predict_proba(X_test[50:51])) "
   ]
  },
  {
   "cell_type": "markdown",
   "id": "1e5e66d3",
   "metadata": {},
   "source": [
    "### 분류평가지표"
   ]
  },
  {
   "cell_type": "code",
   "execution_count": 72,
   "id": "80761bde",
   "metadata": {},
   "outputs": [],
   "source": [
    "from sklearn.metrics import classification_report"
   ]
  },
  {
   "cell_type": "code",
   "execution_count": 76,
   "id": "7879cf32",
   "metadata": {},
   "outputs": [
    {
     "name": "stdout",
     "output_type": "stream",
     "text": [
      "              precision    recall  f1-score   support\n",
      "\n",
      "           0       0.97      0.92      0.95       161\n",
      "           1       0.98      0.86      0.92       188\n",
      "           2       0.91      0.96      0.93       153\n",
      "           3       0.95      0.89      0.92       149\n",
      "           4       0.93      0.91      0.92       141\n",
      "           5       0.88      0.92      0.90       137\n",
      "           6       0.95      0.97      0.96       162\n",
      "           7       0.88      0.91      0.90       149\n",
      "           8       0.81      0.96      0.88       117\n",
      "           9       0.87      0.87      0.87       143\n",
      "\n",
      "    accuracy                           0.92      1500\n",
      "   macro avg       0.91      0.92      0.91      1500\n",
      "weighted avg       0.92      0.92      0.92      1500\n",
      "\n"
     ]
    }
   ],
   "source": [
    "# 정밀도(pecision), 재현율(recall), f1스코어 점수 모두를 계산함\n",
    "# macro avg : 클래스별 점수의 평균\n",
    "# weighted avg :클래스의 개수(support)의 가중치 고려한 클래스별 점수의 평균 \n",
    "print(classification_report(knn_pre,y_test))"
   ]
  },
  {
   "cell_type": "code",
   "execution_count": 77,
   "id": "9b2bebb4",
   "metadata": {},
   "outputs": [
    {
     "name": "stdout",
     "output_type": "stream",
     "text": [
      "              precision    recall  f1-score   support\n",
      "\n",
      "           0       0.85      0.81      0.83       160\n",
      "           1       0.82      0.84      0.83       161\n",
      "           2       0.50      0.49      0.50       164\n",
      "           3       0.32      0.32      0.32       139\n",
      "           4       0.58      0.59      0.58       136\n",
      "           5       0.31      0.44      0.37       102\n",
      "           6       0.57      0.69      0.62       136\n",
      "           7       0.69      0.68      0.69       155\n",
      "           8       0.53      0.57      0.55       127\n",
      "           9       0.57      0.37      0.45       220\n",
      "\n",
      "    accuracy                           0.58      1500\n",
      "   macro avg       0.57      0.58      0.57      1500\n",
      "weighted avg       0.59      0.58      0.58      1500\n",
      "\n"
     ]
    }
   ],
   "source": [
    "print(classification_report(tree_pre,y_test))"
   ]
  },
  {
   "cell_type": "code",
   "execution_count": 78,
   "id": "7a694b69",
   "metadata": {},
   "outputs": [
    {
     "name": "stdout",
     "output_type": "stream",
     "text": [
      "              precision    recall  f1-score   support\n",
      "\n",
      "           0       0.96      0.94      0.95       155\n",
      "           1       0.96      0.92      0.94       172\n",
      "           2       0.91      0.92      0.92       159\n",
      "           3       0.87      0.83      0.85       145\n",
      "           4       0.96      0.92      0.94       145\n",
      "           5       0.83      0.87      0.85       135\n",
      "           6       0.95      0.93      0.94       169\n",
      "           7       0.86      0.90      0.88       146\n",
      "           8       0.81      0.87      0.84       129\n",
      "           9       0.87      0.86      0.86       145\n",
      "\n",
      "    accuracy                           0.90      1500\n",
      "   macro avg       0.90      0.90      0.90      1500\n",
      "weighted avg       0.90      0.90      0.90      1500\n",
      "\n"
     ]
    }
   ],
   "source": [
    "print(classification_report(logi_pre,y_test))"
   ]
  },
  {
   "cell_type": "code",
   "execution_count": 79,
   "id": "1957bcb4",
   "metadata": {},
   "outputs": [
    {
     "name": "stdout",
     "output_type": "stream",
     "text": [
      "              precision    recall  f1-score   support\n",
      "\n",
      "           0       0.95      0.94      0.94       153\n",
      "           1       0.94      0.88      0.91       177\n",
      "           2       0.85      0.91      0.88       152\n",
      "           3       0.86      0.80      0.83       148\n",
      "           4       0.93      0.90      0.91       143\n",
      "           5       0.70      0.88      0.78       113\n",
      "           6       0.96      0.88      0.92       181\n",
      "           7       0.86      0.87      0.87       153\n",
      "           8       0.80      0.77      0.78       144\n",
      "           9       0.79      0.83      0.81       136\n",
      "\n",
      "    accuracy                           0.87      1500\n",
      "   macro avg       0.86      0.87      0.86      1500\n",
      "weighted avg       0.87      0.87      0.87      1500\n",
      "\n"
     ]
    }
   ],
   "source": [
    "print(classification_report(svm_pre,y_test))"
   ]
  },
  {
   "cell_type": "code",
   "execution_count": null,
   "id": "d4f6eb6e",
   "metadata": {},
   "outputs": [],
   "source": []
  },
  {
   "cell_type": "code",
   "execution_count": null,
   "id": "ba75dd22",
   "metadata": {},
   "outputs": [],
   "source": []
  },
  {
   "cell_type": "code",
   "execution_count": null,
   "id": "659fea17",
   "metadata": {},
   "outputs": [],
   "source": []
  },
  {
   "cell_type": "code",
   "execution_count": null,
   "id": "02d523e9",
   "metadata": {},
   "outputs": [],
   "source": []
  },
  {
   "cell_type": "code",
   "execution_count": null,
   "id": "33ef0f83",
   "metadata": {},
   "outputs": [],
   "source": []
  },
  {
   "cell_type": "code",
   "execution_count": null,
   "id": "d9641903",
   "metadata": {},
   "outputs": [],
   "source": []
  },
  {
   "cell_type": "code",
   "execution_count": null,
   "id": "55572aa6",
   "metadata": {},
   "outputs": [],
   "source": []
  },
  {
   "cell_type": "code",
   "execution_count": null,
   "id": "e8f7e1fd",
   "metadata": {},
   "outputs": [],
   "source": []
  },
  {
   "cell_type": "code",
   "execution_count": null,
   "id": "ea3b195c",
   "metadata": {},
   "outputs": [],
   "source": []
  },
  {
   "cell_type": "code",
   "execution_count": null,
   "id": "1ea43047",
   "metadata": {},
   "outputs": [],
   "source": []
  },
  {
   "cell_type": "code",
   "execution_count": null,
   "id": "7692b032",
   "metadata": {},
   "outputs": [],
   "source": []
  },
  {
   "cell_type": "code",
   "execution_count": null,
   "id": "fd0a8fc3",
   "metadata": {},
   "outputs": [],
   "source": []
  }
 ],
 "metadata": {
  "kernelspec": {
   "display_name": "Python 3 (ipykernel)",
   "language": "python",
   "name": "python3"
  },
  "language_info": {
   "codemirror_mode": {
    "name": "ipython",
    "version": 3
   },
   "file_extension": ".py",
   "mimetype": "text/x-python",
   "name": "python",
   "nbconvert_exporter": "python",
   "pygments_lexer": "ipython3",
   "version": "3.11.3"
  }
 },
 "nbformat": 4,
 "nbformat_minor": 5
}
