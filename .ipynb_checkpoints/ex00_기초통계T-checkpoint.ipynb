{
 "cells": [
  {
   "cell_type": "markdown",
   "id": "a046db3c",
   "metadata": {},
   "source": [
    "### 4분위수 구하기\n",
    "- 4분위수란?\n",
    "    - 기술통계량 중 하나로 데이터의 분포를 작은 수부터 큰 수로 나열하여 4등분하여 구한다\n",
    "    - 4등분한 위치에 있는 값을 각각 Q1, Q2, Q3 로 표현한다."
   ]
  },
  {
   "cell_type": "code",
   "execution_count": 2,
   "id": "52d9b596",
   "metadata": {},
   "outputs": [
    {
     "data": {
      "text/plain": [
       "0      1\n",
       "1      6\n",
       "2     10\n",
       "3     12\n",
       "4     12\n",
       "5     15\n",
       "6     21\n",
       "7     22\n",
       "8     33\n",
       "9     37\n",
       "10    56\n",
       "dtype: int64"
      ]
     },
     "execution_count": 2,
     "metadata": {},
     "output_type": "execute_result"
    }
   ],
   "source": [
    "# 데이터를 시리즈 형태로 생성해주기\n",
    "import pandas as pd\n",
    "score = pd.Series([1,6,10,12,12,15,21,22,33,37,56])\n",
    "score"
   ]
  },
  {
   "cell_type": "code",
   "execution_count": 8,
   "id": "167ab458",
   "metadata": {},
   "outputs": [
    {
     "data": {
      "text/plain": [
       "15.0"
      ]
     },
     "execution_count": 8,
     "metadata": {},
     "output_type": "execute_result"
    }
   ],
   "source": [
    "# 4분위수를 구하기 : qunatile 메서드 활용\n",
    "\n",
    "# 1사분위수 구하기\n",
    "Q1 = score.quantile(.25)\n",
    "Q1\n",
    "\n",
    "# 3사분위수 구하기\n",
    "Q3 = score.quantile(.75)\n",
    "Q3\n",
    "\n",
    "# 2사분위수 구하기(중위값, 중앙값)\n",
    "Q2 = score.quantile(.5)\n",
    "Q2"
   ]
  },
  {
   "cell_type": "markdown",
   "id": "f0c77329",
   "metadata": {},
   "source": [
    "### 상자그림 그려보기"
   ]
  },
  {
   "cell_type": "code",
   "execution_count": 9,
   "id": "50046f77",
   "metadata": {},
   "outputs": [],
   "source": [
    "# 그래프 라이브러리\n",
    "import matplotlib.pyplot as plt\n",
    "import seaborn as sns # 시각화 라이브러리, 색감 다양, 다양한 차트"
   ]
  },
  {
   "cell_type": "code",
   "execution_count": 13,
   "id": "8f7568e4",
   "metadata": {},
   "outputs": [
    {
     "data": {
      "text/plain": [
       "<Axes: >"
      ]
     },
     "execution_count": 13,
     "metadata": {},
     "output_type": "execute_result"
    },
    {
     "data": {
      "image/png": "[encoded data removed]",
      "text/plain": [
       "<Figure size 640x480 with 1 Axes>"
      ]
     },
     "metadata": {},
     "output_type": "display_data"
    }
   ],
   "source": [
    "# boxplot 그리기 \n",
    "sns.boxplot(x = score, color = 'skyblue')\n",
    "\n",
    "# 데이터 표시\n",
    "sns.swarmplot(x = score, color = 'black')"
   ]
  }
 ],
 "metadata": {
  "kernelspec": {
   "display_name": "Python 3 (ipykernel)",
   "language": "python",
   "name": "python3"
  },
  "language_info": {
   "codemirror_mode": {
    "name": "ipython",
    "version": 3
   },
   "file_extension": ".py",
   "mimetype": "text/x-python",
   "name": "python",
   "nbconvert_exporter": "python",
   "pygments_lexer": "ipython3",
   "version": "3.11.3"
  }
 },
 "nbformat": 4,
 "nbformat_minor": 5
}
