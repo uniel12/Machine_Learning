{
 "cells": [
  {
   "cell_type": "markdown",
   "id": "c56ffa3c",
   "metadata": {},
   "source": [
    "### 문제 1-1)\n",
    "- 지도 학습 :  (1), (2), (4), (5), (8)\n",
    "- 비지도 학습 : (3), (6), (7)"
   ]
  },
  {
   "cell_type": "markdown",
   "id": "26361f0d",
   "metadata": {},
   "source": [
    "### 문제 1-2) \n",
    "- ㅁ, ㄱ, ㄷ, ㄴ, ㄹ"
   ]
  },
  {
   "cell_type": "markdown",
   "id": "f7935c32",
   "metadata": {},
   "source": [
    "### 문제 2-1)\n",
    "- ㄱ : a\n",
    "- ㄴ : b\n",
    "- ㄷ : a\n",
    "- ㄹ : b"
   ]
  },
  {
   "cell_type": "markdown",
   "id": "a1e9f400",
   "metadata": {},
   "source": [
    "### 문제 3-1)\n",
    "- 지도학습"
   ]
  },
  {
   "cell_type": "markdown",
   "id": "8c3ab154",
   "metadata": {},
   "source": [
    "### 문제 3-2)\n",
    "- 비지도학습"
   ]
  },
  {
   "cell_type": "markdown",
   "id": "1def7abd",
   "metadata": {},
   "source": [
    "### 문제 4-1)\n",
    "- 3,4"
   ]
  },
  {
   "cell_type": "markdown",
   "id": "42f13916",
   "metadata": {},
   "source": [
    "### 문제 4-2)\n",
    "- 과대적합"
   ]
  },
  {
   "cell_type": "markdown",
   "id": "0b1ff079",
   "metadata": {},
   "source": [
    "### 문제 4-3)\n",
    "- 훈련데이터 : 평가데이터 = 7:3"
   ]
  },
  {
   "cell_type": "markdown",
   "id": "ebea14d1",
   "metadata": {},
   "source": [
    "### 문제 5-1)\n",
    "- 2, 3, 4"
   ]
  },
  {
   "cell_type": "markdown",
   "id": "847ef724",
   "metadata": {},
   "source": [
    "### 문제 6-1)\n",
    "- 1, 3, 5"
   ]
  },
  {
   "cell_type": "markdown",
   "id": "f9fd12ad",
   "metadata": {},
   "source": [
    "### 문제 6-2)"
   ]
  },
  {
   "cell_type": "code",
   "execution_count": 13,
   "id": "4d8ed5a9",
   "metadata": {},
   "outputs": [
    {
     "name": "stdout",
     "output_type": "stream",
     "text": [
      "전체 점수 :  [0.9047619  0.95238095 0.95238095 0.95238095 0.9047619 ]\n",
      "평균 :  0.9333333333333333\n"
     ]
    }
   ],
   "source": [
    "from sklearn.datasets import load_iris\n",
    "from sklearn.model_selection import train_test_split\n",
    "from sklearn.neighbors import KNeighborsClassifier\n",
    "from sklearn.model_selection import cross_val_score\n",
    "# (1) iris data 불러오기\n",
    "iris_data = load_iris()\n",
    "\n",
    "# (2) iris data를 문제와 답으로 분리\n",
    "import pandas as pd\n",
    "iris_df = pd.DataFrame(iris_data['data'],columns=iris_data['feature_names'])\n",
    "X = iris_df\n",
    "y = iris_data['target']\n",
    "\n",
    "# (3) 분리된 문제와 답을 train data와 test data로 분리\n",
    "X_train, X_test, y_train, y_test = train_test_split(X,y,test_size=0.3)\n",
    "\n",
    "# (4) KNN분류기 모델 생성 (이웃 수는 3)\n",
    "knn_model = KNeighborsClassifier(n_neighbors=3)\n",
    "\n",
    "# (5) 교차검증 실행 (5 조각으로 나눠 진행)\n",
    "result = cross_val_score(knn_model,\n",
    "                X_train,\n",
    "                y_train,\n",
    "                cv = 5)\n",
    "# (6) 결과 확인 (전체 점수와 평균 점수 표시)\n",
    "print('전체 점수 : ', result)\n",
    "print('평균 : ', result.mean())"
   ]
  },
  {
   "cell_type": "markdown",
   "id": "55061338",
   "metadata": {},
   "source": [
    "### 문제 7-1)\n",
    "- 2, 3, 4"
   ]
  },
  {
   "cell_type": "markdown",
   "id": "fd4e9759",
   "metadata": {},
   "source": [
    "### 문제 8-1)\n",
    "- 문제와 답으로 분리 ('poisonous' 가 답, 'poisonous'를 제외한 컬럼들이 문제)\n",
    "- 원핫 인코딩으로 값을 수치화시켜 데이터 전처리를 진행"
   ]
  },
  {
   "cell_type": "markdown",
   "id": "906bff7c",
   "metadata": {},
   "source": [
    "### 문제 8-2)\n",
    "- 1, 3, 4"
   ]
  },
  {
   "cell_type": "markdown",
   "id": "fdb76a78",
   "metadata": {},
   "source": [
    "### 문제 9-1)\n",
    "- 1, 2, 3, 8"
   ]
  },
  {
   "cell_type": "markdown",
   "id": "92c6d4f1",
   "metadata": {},
   "source": [
    "### 문제 9-2)\n",
    "- 1, 3, 5, 7"
   ]
  },
  {
   "cell_type": "markdown",
   "id": "0fa718d4",
   "metadata": {},
   "source": [
    "### 문제 9-3)\n",
    "1. max_depth\n",
    "2. max_leaf_nodes\n",
    "3. min_samples_leaf"
   ]
  },
  {
   "cell_type": "markdown",
   "id": "cb78e041",
   "metadata": {},
   "source": [
    "### 문제 10-1)\n",
    "- 3, 4 , 6"
   ]
  },
  {
   "cell_type": "markdown",
   "id": "13d400c7",
   "metadata": {},
   "source": [
    "### 문제 10-2)\n",
    "- 1, 3, 4, 6"
   ]
  },
  {
   "cell_type": "markdown",
   "id": "b1cc5418",
   "metadata": {},
   "source": [
    "### 문제 11-1)\n",
    "- 1, 3, 5"
   ]
  },
  {
   "cell_type": "markdown",
   "id": "5a8a2628",
   "metadata": {},
   "source": [
    "### 문제 12-1)\n",
    "- 정밀도 : 1, 4\n",
    "- 재현율 : 2, 3"
   ]
  },
  {
   "cell_type": "markdown",
   "id": "202fef32",
   "metadata": {},
   "source": [
    "###  문제 12-2)\n",
    "1. 정확도 : 95%\n",
    "2. 재현율 : 0%\n",
    "3. 정밀도 : 0%"
   ]
  },
  {
   "cell_type": "markdown",
   "id": "094e7066",
   "metadata": {},
   "source": [
    "### 문제 12-3\n",
    "- 하이퍼파라미터 조정"
   ]
  }
 ],
 "metadata": {
  "kernelspec": {
   "display_name": "Python 3 (ipykernel)",
   "language": "python",
   "name": "python3"
  },
  "language_info": {
   "codemirror_mode": {
    "name": "ipython",
    "version": 3
   },
   "file_extension": ".py",
   "mimetype": "text/x-python",
   "name": "python",
   "nbconvert_exporter": "python",
   "pygments_lexer": "ipython3",
   "version": "3.11.3"
  }
 },
 "nbformat": 4,
 "nbformat_minor": 5
}
